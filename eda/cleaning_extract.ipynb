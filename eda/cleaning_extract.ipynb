{
 "cells": [
  {
   "cell_type": "markdown",
   "id": "48b04a2a",
   "metadata": {},
   "source": [
    "# <center> <span style=\"color:#f6f794\"> 🧼 CLEANING DATA </span> </center>\n",
    "\n",
    "_____"
   ]
  },
  {
   "cell_type": "markdown",
   "id": "ff1422ff",
   "metadata": {},
   "source": [
    "### <span style=\"color:#f6f794\"> 📚 Importing libraries and setting displays </span>"
   ]
  },
  {
   "cell_type": "code",
   "execution_count": 1,
   "id": "22e16e28",
   "metadata": {},
   "outputs": [],
   "source": [
    "import pandas as pd\n",
    "import numpy as np\n",
    "import requests\n",
    "import gzip\n",
    "from io import BytesIO\n",
    "import os\n",
    "from pandas.tseries.offsets import DateOffset\n",
    "import matplotlib.pyplot as plt\n",
    "from matplotlib.colors import LinearSegmentedColormap\n",
    "import seaborn as sns\n",
    "import time\n",
    "import csv\n",
    "import re\n"
   ]
  },
  {
   "cell_type": "markdown",
   "id": "c327ccf4",
   "metadata": {},
   "source": [
    "### <span style=\"color:#f6f794\"> 📂 Opening files and create dataframes of them </span>"
   ]
  },
  {
   "cell_type": "code",
   "execution_count": 2,
   "id": "e47b3d19",
   "metadata": {},
   "outputs": [
    {
     "name": "stdout",
     "output_type": "stream",
     "text": [
      "c:\\Users\\yaelp\\Desktop\\Yael\\Bootcamp_FactoriaF5_IA_Promo4\\Proyectos\\Grupales\\sentiment-analyzer-inc\\eda\n",
      "c:\\Users\\yaelp\\Desktop\\Yael\\Bootcamp_FactoriaF5_IA_Promo4\\Proyectos\\Grupales\\sentiment-analyzer-inc\n",
      "c:\\Users\\yaelp\\Desktop\\Yael\\Bootcamp_FactoriaF5_IA_Promo4\\Proyectos\\Grupales\\sentiment-analyzer-inc\\eda\\data\n",
      "c:\\Users\\yaelp\\Desktop\\Yael\\Bootcamp_FactoriaF5_IA_Promo4\\Proyectos\\Grupales\\sentiment-analyzer-inc\\eda\\\n"
     ]
    }
   ],
   "source": [
    "# Setting paths\n",
    "current_dir = os.getcwd()                            # \\sentiment-analyzer-inc\\eda\n",
    "print(current_dir)\n",
    "parent_dir = os.path.dirname(current_dir)            # \\sentiment-analyzer-inc\n",
    "print(parent_dir)\n",
    "data_dir = os.path.join(current_dir, \"data\")         # \\sentiment-analyzer-inc\\eda\\data\n",
    "print(data_dir)\n",
    "cleaning_file_path = os.path.join(current_dir, \"\")   # \\sentiment-analyzer-inc\\eda\\data\\\n",
    "print(cleaning_file_path)"
   ]
  },
  {
   "cell_type": "code",
   "execution_count": 3,
   "id": "01bf7a69",
   "metadata": {},
   "outputs": [
    {
     "name": "stdout",
     "output_type": "stream",
     "text": [
      "⏯️ Downloading data from GitHub...\n",
      "⏯️ bar_chart: Processing compressed file..\n",
      "✅ white_check_mark: Data downloaded succesfully!\n"
     ]
    }
   ],
   "source": [
    "GITHUB_CLEAN_URL = \"https://raw.githubusercontent.com/Yael-Parra/sentiment-analyzer-inc/feature/data_youtube/etl/data/youtube_comments_-4GmbBoYQjE.csv.gz\"\n",
    "\n",
    "def load_airbnb_data_from_github(url):\n",
    "    \"\"\"\n",
    "    Downloading and processing Airbnb data from GitHub repository.\n",
    "    \"\"\"\n",
    "    print(\"⏯️ Downloading data from GitHub...\")\n",
    "\n",
    "    try:\n",
    "        # Download the compressed CSV file from GitHub\n",
    "        response = requests.get(url)\n",
    "        response.raise_for_status()\n",
    "\n",
    "        print(\"⏯️ bar_chart: Processing compressed file..\")\n",
    "\n",
    "        # Decompressing and reading the CSV file\n",
    "        with gzip.open(BytesIO(response.content), 'rt', encoding='utf-8') as f:\n",
    "            df = pd.read_csv(\n",
    "                f,\n",
    "                sep=',',                  # Specify the delimiter\n",
    "                encoding='utf-8',         # Specify the encoding\n",
    "                quoting=csv.QUOTE_MINIMAL # Specify the quoting behavior\n",
    "                )\n",
    "\n",
    "        print(f\"✅ white_check_mark: Data downloaded succesfully!\")\n",
    "        \n",
    "        return df\n",
    "\n",
    "    except requests.exceptions.RequestException as req_err:\n",
    "        print(f\"⚠️ Network/Request Error while downloading data: {req_err}\")\n",
    "        return None\n",
    "    except Exception as e:\n",
    "        print(f\"⚠️ General Error while processing data: {e}\")\n",
    "        return None\n",
    "\n",
    "# Creating dataframe from GitHub URL\n",
    "df_youtube_extract = load_airbnb_data_from_github(GITHUB_CLEAN_URL)"
   ]
  },
  {
   "cell_type": "markdown",
   "id": "7d920ad3",
   "metadata": {},
   "source": [
    "___________\n",
    "# <center> <span style=\"color:#f6f794\">  🧹🧹🧹🧹🧹🧹🧹 START CLEANING 🧹🧹🧹🧹🧹🧹🧹 </center>\n",
    "__________"
   ]
  },
  {
   "cell_type": "code",
   "execution_count": 4,
   "id": "98a8b634",
   "metadata": {},
   "outputs": [
    {
     "data": {
      "text/plain": [
       "Index(['threadId', 'commentId', 'videoId', 'author', 'authorChannelId',\n",
       "       'isReply', 'parentCommentId', 'publishedAtComment', 'text',\n",
       "       'likeCountComment', 'replyCount'],\n",
       "      dtype='object')"
      ]
     },
     "execution_count": 4,
     "metadata": {},
     "output_type": "execute_result"
    }
   ],
   "source": [
    "df_youtube_extract.columns"
   ]
  },
  {
   "cell_type": "code",
   "execution_count": 5,
   "id": "c1e1d2f2",
   "metadata": {},
   "outputs": [
    {
     "name": "stdout",
     "output_type": "stream",
     "text": [
      "<class 'pandas.core.frame.DataFrame'>\n",
      "RangeIndex: 1000 entries, 0 to 999\n",
      "Data columns (total 11 columns):\n",
      " #   Column              Non-Null Count  Dtype  \n",
      "---  ------              --------------  -----  \n",
      " 0   threadId            1000 non-null   object \n",
      " 1   commentId           1000 non-null   object \n",
      " 2   videoId             1000 non-null   object \n",
      " 3   author              1000 non-null   object \n",
      " 4   authorChannelId     1000 non-null   object \n",
      " 5   isReply             1000 non-null   bool   \n",
      " 6   parentCommentId     27 non-null     object \n",
      " 7   publishedAtComment  1000 non-null   object \n",
      " 8   text                998 non-null    object \n",
      " 9   likeCountComment    1000 non-null   int64  \n",
      " 10  replyCount          973 non-null    float64\n",
      "dtypes: bool(1), float64(1), int64(1), object(8)\n",
      "memory usage: 79.2+ KB\n"
     ]
    }
   ],
   "source": [
    "df_youtube_extract.info()"
   ]
  },
  {
   "cell_type": "code",
   "execution_count": 6,
   "id": "449bea47",
   "metadata": {},
   "outputs": [
    {
     "data": {
      "application/vnd.microsoft.datawrangler.viewer.v0+json": {
       "columns": [
        {
         "name": "index",
         "rawType": "int64",
         "type": "integer"
        },
        {
         "name": "threadId",
         "rawType": "object",
         "type": "string"
        },
        {
         "name": "commentId",
         "rawType": "object",
         "type": "string"
        },
        {
         "name": "videoId",
         "rawType": "object",
         "type": "string"
        },
        {
         "name": "author",
         "rawType": "object",
         "type": "string"
        },
        {
         "name": "authorChannelId",
         "rawType": "object",
         "type": "string"
        },
        {
         "name": "isReply",
         "rawType": "bool",
         "type": "boolean"
        },
        {
         "name": "parentCommentId",
         "rawType": "object",
         "type": "unknown"
        },
        {
         "name": "publishedAtComment",
         "rawType": "object",
         "type": "string"
        },
        {
         "name": "text",
         "rawType": "object",
         "type": "string"
        },
        {
         "name": "likeCountComment",
         "rawType": "int64",
         "type": "integer"
        },
        {
         "name": "replyCount",
         "rawType": "float64",
         "type": "float"
        }
       ],
       "ref": "356c159f-9ad7-4523-9d31-a0aa8ad5a987",
       "rows": [
        [
         "444",
         "UgxXPSGZ9sovPy-bZg54AaABAg",
         "UgxXPSGZ9sovPy-bZg54AaABAg",
         "-4GmbBoYQjE",
         "@Rajnita-b4w",
         "UCbKZMmNM7XOWRuuesDo8h0Q",
         "False",
         null,
         "2025-06-24T12:53:17Z",
         "Camping video so beautiful sir❤❤❤❤ love this camping",
         "0",
         "0.0"
        ],
        [
         "158",
         "UgyHbBJigQ6GsyOgIOR4AaABAg",
         "UgyHbBJigQ6GsyOgIOR4AaABAg",
         "-4GmbBoYQjE",
         "@JunniKassar",
         "UCS2hyIDXrXa7s2biHuVjmCQ",
         "False",
         null,
         "2025-06-29T05:19:16Z",
         "Hello",
         "0",
         "0.0"
        ],
        [
         "199",
         "Ugyg2xsi2SjlRXcvd414AaABAg",
         "Ugyg2xsi2SjlRXcvd414AaABAg",
         "-4GmbBoYQjE",
         "@Eltraviezobenja",
         "UCMk4oW6c7rZPudnOuErTsaw",
         "False",
         null,
         "2025-06-28T13:26:38Z",
         "Soy tu fan de perú🎉",
         "0",
         "0.0"
        ],
        [
         "909",
         "UgyufhHlkBd0SjEvWC14AaABAg",
         "UgyufhHlkBd0SjEvWC14AaABAg",
         "-4GmbBoYQjE",
         "@Hosna-d4e4g",
         "UCJxmiO1RrWXIBeMeQvpFTbA",
         "False",
         null,
         "2025-06-18T04:47:18Z",
         "আমি ওত সাবকাইব করেছি",
         "0",
         "0.0"
        ],
        [
         "224",
         "UgyhzIV236QcyAwQQ5Z4AaABAg",
         "UgyhzIV236QcyAwQQ5Z4AaABAg",
         "-4GmbBoYQjE",
         "@Kekob014",
         "UCgHDCv1ED72WjyXyR3hQCyQ",
         "False",
         null,
         "2025-06-28T00:15:34Z",
         "Bring back karl",
         "0",
         "0.0"
        ],
        [
         "492",
         "UgyTNSdCkVKhg0_9dL14AaABAg",
         "UgyTNSdCkVKhg0_9dL14AaABAg",
         "-4GmbBoYQjE",
         "@VictorMedeiros-y5s7k",
         "UC0qyBGXMNWjb4vyKD8R5DpQ",
         "False",
         null,
         "2025-06-23T16:37:34Z",
         "Oi eu sou muito seu fã 😊",
         "0",
         "0.0"
        ],
        [
         "781",
         "UgxvLWMS2BQ9BFrzLwl4AaABAg",
         "UgxvLWMS2BQ9BFrzLwl4AaABAg",
         "-4GmbBoYQjE",
         "@AlexlyGoated",
         "UCi2JtFSMY_czMsMqMaP3Zjg",
         "False",
         null,
         "2025-06-19T23:22:07Z",
         "I’m subscribed to all of your six channels",
         "0",
         "0.0"
        ],
        [
         "673",
         "Ugxag3BzGLNrIoneCXp4AaABAg",
         "Ugxag3BzGLNrIoneCXp4AaABAg",
         "-4GmbBoYQjE",
         "@Que-qk1uz",
         "UCkU3qG37S33-pQ7y6EcusIg",
         "False",
         null,
         "2025-06-21T11:51:06Z",
         "Thật tuyệt",
         "0",
         "0.0"
        ],
        [
         "844",
         "UgzqjJ1woNp90WXp1vt4AaABAg",
         "UgzqjJ1woNp90WXp1vt4AaABAg",
         "-4GmbBoYQjE",
         "@evonne0105",
         "UCutuZPK9gk3DTL_ukdvBSSQ",
         "False",
         null,
         "2025-06-19T03:43:12Z",
         "很假",
         "0",
         "0.0"
        ],
        [
         "388",
         "UgxMIf0aIgjFIt7pbgp4AaABAg",
         "UgxMIf0aIgjFIt7pbgp4AaABAg",
         "-4GmbBoYQjE",
         "@mpi7229",
         "UCHnflxY4HQB_1KtwRdwB2vQ",
         "False",
         null,
         "2025-06-25T11:13:39Z",
         "Aku bukan orang suku Maya",
         "0",
         "0.0"
        ]
       ],
       "shape": {
        "columns": 11,
        "rows": 10
       }
      },
      "text/html": [
       "<div>\n",
       "<style scoped>\n",
       "    .dataframe tbody tr th:only-of-type {\n",
       "        vertical-align: middle;\n",
       "    }\n",
       "\n",
       "    .dataframe tbody tr th {\n",
       "        vertical-align: top;\n",
       "    }\n",
       "\n",
       "    .dataframe thead th {\n",
       "        text-align: right;\n",
       "    }\n",
       "</style>\n",
       "<table border=\"1\" class=\"dataframe\">\n",
       "  <thead>\n",
       "    <tr style=\"text-align: right;\">\n",
       "      <th></th>\n",
       "      <th>threadId</th>\n",
       "      <th>commentId</th>\n",
       "      <th>videoId</th>\n",
       "      <th>author</th>\n",
       "      <th>authorChannelId</th>\n",
       "      <th>isReply</th>\n",
       "      <th>parentCommentId</th>\n",
       "      <th>publishedAtComment</th>\n",
       "      <th>text</th>\n",
       "      <th>likeCountComment</th>\n",
       "      <th>replyCount</th>\n",
       "    </tr>\n",
       "  </thead>\n",
       "  <tbody>\n",
       "    <tr>\n",
       "      <th>444</th>\n",
       "      <td>UgxXPSGZ9sovPy-bZg54AaABAg</td>\n",
       "      <td>UgxXPSGZ9sovPy-bZg54AaABAg</td>\n",
       "      <td>-4GmbBoYQjE</td>\n",
       "      <td>@Rajnita-b4w</td>\n",
       "      <td>UCbKZMmNM7XOWRuuesDo8h0Q</td>\n",
       "      <td>False</td>\n",
       "      <td>NaN</td>\n",
       "      <td>2025-06-24T12:53:17Z</td>\n",
       "      <td>Camping video so beautiful sir❤❤❤❤ love this c...</td>\n",
       "      <td>0</td>\n",
       "      <td>0.0</td>\n",
       "    </tr>\n",
       "    <tr>\n",
       "      <th>158</th>\n",
       "      <td>UgyHbBJigQ6GsyOgIOR4AaABAg</td>\n",
       "      <td>UgyHbBJigQ6GsyOgIOR4AaABAg</td>\n",
       "      <td>-4GmbBoYQjE</td>\n",
       "      <td>@JunniKassar</td>\n",
       "      <td>UCS2hyIDXrXa7s2biHuVjmCQ</td>\n",
       "      <td>False</td>\n",
       "      <td>NaN</td>\n",
       "      <td>2025-06-29T05:19:16Z</td>\n",
       "      <td>Hello</td>\n",
       "      <td>0</td>\n",
       "      <td>0.0</td>\n",
       "    </tr>\n",
       "    <tr>\n",
       "      <th>199</th>\n",
       "      <td>Ugyg2xsi2SjlRXcvd414AaABAg</td>\n",
       "      <td>Ugyg2xsi2SjlRXcvd414AaABAg</td>\n",
       "      <td>-4GmbBoYQjE</td>\n",
       "      <td>@Eltraviezobenja</td>\n",
       "      <td>UCMk4oW6c7rZPudnOuErTsaw</td>\n",
       "      <td>False</td>\n",
       "      <td>NaN</td>\n",
       "      <td>2025-06-28T13:26:38Z</td>\n",
       "      <td>Soy tu fan de perú🎉</td>\n",
       "      <td>0</td>\n",
       "      <td>0.0</td>\n",
       "    </tr>\n",
       "    <tr>\n",
       "      <th>909</th>\n",
       "      <td>UgyufhHlkBd0SjEvWC14AaABAg</td>\n",
       "      <td>UgyufhHlkBd0SjEvWC14AaABAg</td>\n",
       "      <td>-4GmbBoYQjE</td>\n",
       "      <td>@Hosna-d4e4g</td>\n",
       "      <td>UCJxmiO1RrWXIBeMeQvpFTbA</td>\n",
       "      <td>False</td>\n",
       "      <td>NaN</td>\n",
       "      <td>2025-06-18T04:47:18Z</td>\n",
       "      <td>আমি ওত সাবকাইব করেছি</td>\n",
       "      <td>0</td>\n",
       "      <td>0.0</td>\n",
       "    </tr>\n",
       "    <tr>\n",
       "      <th>224</th>\n",
       "      <td>UgyhzIV236QcyAwQQ5Z4AaABAg</td>\n",
       "      <td>UgyhzIV236QcyAwQQ5Z4AaABAg</td>\n",
       "      <td>-4GmbBoYQjE</td>\n",
       "      <td>@Kekob014</td>\n",
       "      <td>UCgHDCv1ED72WjyXyR3hQCyQ</td>\n",
       "      <td>False</td>\n",
       "      <td>NaN</td>\n",
       "      <td>2025-06-28T00:15:34Z</td>\n",
       "      <td>Bring back karl</td>\n",
       "      <td>0</td>\n",
       "      <td>0.0</td>\n",
       "    </tr>\n",
       "    <tr>\n",
       "      <th>492</th>\n",
       "      <td>UgyTNSdCkVKhg0_9dL14AaABAg</td>\n",
       "      <td>UgyTNSdCkVKhg0_9dL14AaABAg</td>\n",
       "      <td>-4GmbBoYQjE</td>\n",
       "      <td>@VictorMedeiros-y5s7k</td>\n",
       "      <td>UC0qyBGXMNWjb4vyKD8R5DpQ</td>\n",
       "      <td>False</td>\n",
       "      <td>NaN</td>\n",
       "      <td>2025-06-23T16:37:34Z</td>\n",
       "      <td>Oi eu sou muito seu fã 😊</td>\n",
       "      <td>0</td>\n",
       "      <td>0.0</td>\n",
       "    </tr>\n",
       "    <tr>\n",
       "      <th>781</th>\n",
       "      <td>UgxvLWMS2BQ9BFrzLwl4AaABAg</td>\n",
       "      <td>UgxvLWMS2BQ9BFrzLwl4AaABAg</td>\n",
       "      <td>-4GmbBoYQjE</td>\n",
       "      <td>@AlexlyGoated</td>\n",
       "      <td>UCi2JtFSMY_czMsMqMaP3Zjg</td>\n",
       "      <td>False</td>\n",
       "      <td>NaN</td>\n",
       "      <td>2025-06-19T23:22:07Z</td>\n",
       "      <td>I’m subscribed to all of your six channels</td>\n",
       "      <td>0</td>\n",
       "      <td>0.0</td>\n",
       "    </tr>\n",
       "    <tr>\n",
       "      <th>673</th>\n",
       "      <td>Ugxag3BzGLNrIoneCXp4AaABAg</td>\n",
       "      <td>Ugxag3BzGLNrIoneCXp4AaABAg</td>\n",
       "      <td>-4GmbBoYQjE</td>\n",
       "      <td>@Que-qk1uz</td>\n",
       "      <td>UCkU3qG37S33-pQ7y6EcusIg</td>\n",
       "      <td>False</td>\n",
       "      <td>NaN</td>\n",
       "      <td>2025-06-21T11:51:06Z</td>\n",
       "      <td>Thật tuyệt</td>\n",
       "      <td>0</td>\n",
       "      <td>0.0</td>\n",
       "    </tr>\n",
       "    <tr>\n",
       "      <th>844</th>\n",
       "      <td>UgzqjJ1woNp90WXp1vt4AaABAg</td>\n",
       "      <td>UgzqjJ1woNp90WXp1vt4AaABAg</td>\n",
       "      <td>-4GmbBoYQjE</td>\n",
       "      <td>@evonne0105</td>\n",
       "      <td>UCutuZPK9gk3DTL_ukdvBSSQ</td>\n",
       "      <td>False</td>\n",
       "      <td>NaN</td>\n",
       "      <td>2025-06-19T03:43:12Z</td>\n",
       "      <td>很假</td>\n",
       "      <td>0</td>\n",
       "      <td>0.0</td>\n",
       "    </tr>\n",
       "    <tr>\n",
       "      <th>388</th>\n",
       "      <td>UgxMIf0aIgjFIt7pbgp4AaABAg</td>\n",
       "      <td>UgxMIf0aIgjFIt7pbgp4AaABAg</td>\n",
       "      <td>-4GmbBoYQjE</td>\n",
       "      <td>@mpi7229</td>\n",
       "      <td>UCHnflxY4HQB_1KtwRdwB2vQ</td>\n",
       "      <td>False</td>\n",
       "      <td>NaN</td>\n",
       "      <td>2025-06-25T11:13:39Z</td>\n",
       "      <td>Aku bukan orang suku Maya</td>\n",
       "      <td>0</td>\n",
       "      <td>0.0</td>\n",
       "    </tr>\n",
       "  </tbody>\n",
       "</table>\n",
       "</div>"
      ],
      "text/plain": [
       "                       threadId                   commentId      videoId  \\\n",
       "444  UgxXPSGZ9sovPy-bZg54AaABAg  UgxXPSGZ9sovPy-bZg54AaABAg  -4GmbBoYQjE   \n",
       "158  UgyHbBJigQ6GsyOgIOR4AaABAg  UgyHbBJigQ6GsyOgIOR4AaABAg  -4GmbBoYQjE   \n",
       "199  Ugyg2xsi2SjlRXcvd414AaABAg  Ugyg2xsi2SjlRXcvd414AaABAg  -4GmbBoYQjE   \n",
       "909  UgyufhHlkBd0SjEvWC14AaABAg  UgyufhHlkBd0SjEvWC14AaABAg  -4GmbBoYQjE   \n",
       "224  UgyhzIV236QcyAwQQ5Z4AaABAg  UgyhzIV236QcyAwQQ5Z4AaABAg  -4GmbBoYQjE   \n",
       "492  UgyTNSdCkVKhg0_9dL14AaABAg  UgyTNSdCkVKhg0_9dL14AaABAg  -4GmbBoYQjE   \n",
       "781  UgxvLWMS2BQ9BFrzLwl4AaABAg  UgxvLWMS2BQ9BFrzLwl4AaABAg  -4GmbBoYQjE   \n",
       "673  Ugxag3BzGLNrIoneCXp4AaABAg  Ugxag3BzGLNrIoneCXp4AaABAg  -4GmbBoYQjE   \n",
       "844  UgzqjJ1woNp90WXp1vt4AaABAg  UgzqjJ1woNp90WXp1vt4AaABAg  -4GmbBoYQjE   \n",
       "388  UgxMIf0aIgjFIt7pbgp4AaABAg  UgxMIf0aIgjFIt7pbgp4AaABAg  -4GmbBoYQjE   \n",
       "\n",
       "                    author           authorChannelId  isReply parentCommentId  \\\n",
       "444           @Rajnita-b4w  UCbKZMmNM7XOWRuuesDo8h0Q    False             NaN   \n",
       "158           @JunniKassar  UCS2hyIDXrXa7s2biHuVjmCQ    False             NaN   \n",
       "199       @Eltraviezobenja  UCMk4oW6c7rZPudnOuErTsaw    False             NaN   \n",
       "909           @Hosna-d4e4g  UCJxmiO1RrWXIBeMeQvpFTbA    False             NaN   \n",
       "224              @Kekob014  UCgHDCv1ED72WjyXyR3hQCyQ    False             NaN   \n",
       "492  @VictorMedeiros-y5s7k  UC0qyBGXMNWjb4vyKD8R5DpQ    False             NaN   \n",
       "781          @AlexlyGoated  UCi2JtFSMY_czMsMqMaP3Zjg    False             NaN   \n",
       "673             @Que-qk1uz  UCkU3qG37S33-pQ7y6EcusIg    False             NaN   \n",
       "844            @evonne0105  UCutuZPK9gk3DTL_ukdvBSSQ    False             NaN   \n",
       "388               @mpi7229  UCHnflxY4HQB_1KtwRdwB2vQ    False             NaN   \n",
       "\n",
       "       publishedAtComment                                               text  \\\n",
       "444  2025-06-24T12:53:17Z  Camping video so beautiful sir❤❤❤❤ love this c...   \n",
       "158  2025-06-29T05:19:16Z                                              Hello   \n",
       "199  2025-06-28T13:26:38Z                                Soy tu fan de perú🎉   \n",
       "909  2025-06-18T04:47:18Z                               আমি ওত সাবকাইব করেছি   \n",
       "224  2025-06-28T00:15:34Z                                    Bring back karl   \n",
       "492  2025-06-23T16:37:34Z                           Oi eu sou muito seu fã 😊   \n",
       "781  2025-06-19T23:22:07Z         I’m subscribed to all of your six channels   \n",
       "673  2025-06-21T11:51:06Z                                         Thật tuyệt   \n",
       "844  2025-06-19T03:43:12Z                                                 很假   \n",
       "388  2025-06-25T11:13:39Z                          Aku bukan orang suku Maya   \n",
       "\n",
       "     likeCountComment  replyCount  \n",
       "444                 0         0.0  \n",
       "158                 0         0.0  \n",
       "199                 0         0.0  \n",
       "909                 0         0.0  \n",
       "224                 0         0.0  \n",
       "492                 0         0.0  \n",
       "781                 0         0.0  \n",
       "673                 0         0.0  \n",
       "844                 0         0.0  \n",
       "388                 0         0.0  "
      ]
     },
     "execution_count": 6,
     "metadata": {},
     "output_type": "execute_result"
    }
   ],
   "source": [
    "df_youtube_extract.sample(10)"
   ]
  },
  {
   "cell_type": "code",
   "execution_count": null,
   "id": "713a0bad",
   "metadata": {},
   "outputs": [
    {
     "data": {
      "text/plain": [
       "(1000, 11)"
      ]
     },
     "execution_count": 7,
     "metadata": {},
     "output_type": "execute_result"
    }
   ],
   "source": [
    "df_youtube_extract.shape # (1000, 11)"
   ]
  },
  {
   "cell_type": "markdown",
   "id": "01b22e79",
   "metadata": {},
   "source": [
    "#### <span style=\"color:#F3A006\"> 1️⃣ Columns </span>\n",
    "\n",
    "- Column's names format: lowercase with underscore as spaces"
   ]
  },
  {
   "cell_type": "code",
   "execution_count": 8,
   "id": "97ea6009",
   "metadata": {},
   "outputs": [],
   "source": [
    "# Changin the names to lowercase and with a underscore to as spaces to make it easier to work with.\n",
    "df_youtube_extract.columns = (\n",
    "    df_youtube_extract.columns\n",
    "    .str.replace(r'(?<!^)(?=[A-Z])', '_', regex=True)  # Insert underscore before each uppercase (except start)\n",
    "    .str.lower()                                       # Convert all to lowercase\n",
    "    .str.strip()                                       # Remove leading and trailing spaces in case there were any\n",
    ")"
   ]
  },
  {
   "cell_type": "code",
   "execution_count": 9,
   "id": "0a00ce92",
   "metadata": {},
   "outputs": [
    {
     "data": {
      "text/plain": [
       "Index(['thread_id', 'comment_id', 'video_id', 'author', 'author_channel_id',\n",
       "       'is_reply', 'parent_comment_id', 'published_at_comment', 'text',\n",
       "       'like_count_comment', 'reply_count'],\n",
       "      dtype='object')"
      ]
     },
     "execution_count": 9,
     "metadata": {},
     "output_type": "execute_result"
    }
   ],
   "source": [
    "df_youtube_extract.columns"
   ]
  },
  {
   "cell_type": "markdown",
   "id": "58bc8a58",
   "metadata": {},
   "source": [
    "#### <span style=\"color:#F3A006\"> 2️⃣ Duplicates </span>\n",
    "\n",
    "- There are no duplicate columns"
   ]
  },
  {
   "cell_type": "code",
   "execution_count": null,
   "id": "da4188bf",
   "metadata": {},
   "outputs": [],
   "source": [
    "# Checking if there are duplicate columns\n",
    "df_youtube_extract.columns.duplicated().any()        # np.False_\n",
    "df_youtube_extract[\"comment_id\"].duplicated().any()  # np.False_\n",
    "df_youtube_extract[\"comment_id\"].nunique()           # 7001\n",
    "df_youtube_extract[\"video_id\"].duplicated().any()    # np.True_\n",
    "df_youtube_extract[\"video_id\"].nunique()             # 1"
   ]
  },
  {
   "cell_type": "markdown",
   "id": "6a9989d5",
   "metadata": {},
   "source": [
    "#### <span style=\"color:#F3A006\">  3️⃣  Nulls </span>\n",
    "\n",
    "- Before imputing:\n",
    "    - parent_comment_id:  qty of nulls:  973\n",
    "    - text:               qty of nulls:    2\n",
    "    - reply_count:        qty of nulls:   27\n",
    "\n",
    "- After imputation:\n",
    "    - parent_comment_id:\n",
    "        - \n",
    "    - text:\n",
    "        - \n",
    "    - reply_count: \n",
    "        - This value only makes sense for top-level comments, as replies do not receive further replies. Using -1 clearly distinguishes replies from root comments without mixing them with valid counts (like 0). It signals “not applicable” without being confused with an actual reply count.\n",
    "     \n"
   ]
  },
  {
   "cell_type": "code",
   "execution_count": null,
   "id": "a1f6abb3",
   "metadata": {},
   "outputs": [],
   "source": [
    "# Checking if there are nulls\n",
    "df_youtube_extract.isnull().sum() # \"parent_comment_id\":  973     |  \"text\": 2      |    reply_count: 27\n",
    "# Checking if there are empty rows\n",
    "df_youtube_extract.isna().sum()\n",
    "# Checkirng if there are empty strings\n",
    "df_youtube_extract.eq('').sum()\n",
    "# Checking if there are \"nan\" values\n",
    "df_youtube_extract.eq('nan').sum()"
   ]
  },
  {
   "cell_type": "markdown",
   "id": "8b05bc7c",
   "metadata": {},
   "source": [
    "[\"reply_count\"]"
   ]
  },
  {
   "cell_type": "code",
   "execution_count": null,
   "id": "208084cf",
   "metadata": {},
   "outputs": [],
   "source": [
    "df_youtube_extract[\"reply_count\"].nunique()  # 5\n",
    "df_youtube_extract[\"reply_count\"].unique()  # [638.,  nan,   0.,   1.,   2.,   7.]\n",
    "df_youtube_extract[\"reply_count\"].value_counts()"
   ]
  },
  {
   "cell_type": "code",
   "execution_count": null,
   "id": "47dcfb37",
   "metadata": {},
   "outputs": [],
   "source": [
    "df_youtube_extract[\"reply_count\"] = df_youtube_extract[\"reply_count\"].fillna(-1)"
   ]
  },
  {
   "cell_type": "markdown",
   "id": "c867f164",
   "metadata": {},
   "source": [
    "#### <span style=\"color:#F3A006\"> 4️⃣ Changing the data types </span>\n",
    "\n",
    "- DateTime: \n",
    "    - published_at"
   ]
  },
  {
   "cell_type": "code",
   "execution_count": null,
   "id": "69882e3b",
   "metadata": {},
   "outputs": [],
   "source": [
    "df_youtube_extract.dtypes"
   ]
  },
  {
   "cell_type": "code",
   "execution_count": null,
   "id": "1f861143",
   "metadata": {},
   "outputs": [],
   "source": [
    "df_youtube_extract.head(2)"
   ]
  },
  {
   "cell_type": "code",
   "execution_count": null,
   "id": "65814aae",
   "metadata": {},
   "outputs": [],
   "source": [
    "# Changing data type to datetime for column  published_at_comment\n",
    "df_youtube_extract[\"published_at_comment\"] = pd.to_datetime(df_youtube_extract[\"published_at_comment\"], errors='coerce')\n",
    "df_youtube_extract[\"published_at_comment\"].dtypes  # datetime64[ns, UTC]"
   ]
  },
  {
   "cell_type": "markdown",
   "id": "51f6fd24",
   "metadata": {},
   "source": [
    "#### <span style=\"color:#F3A006\"> 5️⃣ Eliminating invisible row breakes </span>"
   ]
  },
  {
   "cell_type": "code",
   "execution_count": null,
   "id": "9ca4ea76",
   "metadata": {},
   "outputs": [],
   "source": [
    "# Eliminating row breaks and extra spaces in the comments\n",
    "df_youtube_extract[\"text\"] = df_youtube_extract[\"text\"].str.replace(r'\\s+', ' ', regex=True).str.strip()"
   ]
  },
  {
   "cell_type": "markdown",
   "id": "dba1e589",
   "metadata": {},
   "source": [
    "## <span style=\"color:#F3A006\"> 🔟 Summary </span>"
   ]
  },
  {
   "cell_type": "markdown",
   "id": "c133fc5a",
   "metadata": {},
   "source": [
    "| Column Name          | Description                                                                                         |\n",
    "|----------------------|-----------------------------------------------------------------------------------------------------|\n",
    "| thread_id            | Unique identifier for the comment thread, grouping the original comment and its replies             |\n",
    "| comment_id           | Unique identifier for each individual comment                                                       |\n",
    "| video_id             | Unique identifier of the YouTube video where the comment was posted                                 |\n",
    "| author               | Display name of the user who posted the comment                                                    |\n",
    "| author_channel_id    | Unique identifier of the YouTube channel of the comment author                                      |\n",
    "| is_reply             | Boolean indicating if the comment is a reply to another comment (True) or a top-level comment (False)|\n",
    "| parent_comment_id    | Identifier of the parent comment if this comment is a reply; null or empty if top-level comment     |\n",
    "| published_at_comment | Timestamp when the comment was originally published                                                 |\n",
    "| text                 | The textual content of the comment                                                                 |\n",
    "| like_count_comment   | Number of likes that the comment has received                                                      |\n",
    "| reply_count          | Number of replies the comment has (only applicable for top-level comments)                          |\n"
   ]
  },
  {
   "cell_type": "markdown",
   "id": "da49f892",
   "metadata": {},
   "source": [
    "_______\n",
    "# <center> <span style=\"color:#f6f794\"> 💾💾💾💾💾 Saving in GitHub Compressed 💾💾💾💾💾</center>"
   ]
  },
  {
   "cell_type": "code",
   "execution_count": null,
   "id": "04e0c0b3",
   "metadata": {},
   "outputs": [],
   "source": [
    "# # # Saving data in cleaning_file_path and in GitHub so it can be used in the next steps and the rest of the team can access it\n",
    "# cleaning_file_path = os.path.join(data_dir, \"youtube_dataset_cleaned.csv.gz\")\n",
    "\n",
    "# # Saving the cleaned DataFrame to a compressed CSV file\n",
    "# df_raw_1.to_csv(\n",
    "#     cleaning_file_path,\n",
    "#     index=False,\n",
    "#     compression='gzip',\n",
    "#     sep=',',                  # Crucial: Specify delimiter even for compressed\n",
    "#     encoding='utf-8',         # Crucial: Specify encoding\n",
    "#     quoting=csv.QUOTE_MINIMAL # Crucial: Specify quoting behavior\n",
    "# )\n",
    "# print(f\"✅ Data saved successfully at {cleaning_file_path}\")"
   ]
  },
  {
   "cell_type": "code",
   "execution_count": null,
   "id": "cdecd0ca",
   "metadata": {},
   "outputs": [],
   "source": [
    "# Saving the csv file in the data directory\n",
    "cleaning_file_path = os.path.join(data_dir, \"youtube_dataset_checking.csv\")\n",
    "# Saving the cleaned DataFrame to a CSV file\n",
    "df_youtube_extract.to_csv(\n",
    "    cleaning_file_path,\n",
    "    index=False,\n",
    "    sep=',',                  # Crucial: Specify delimiter\n",
    "    encoding='utf-8',         # Crucial: Specify encoding\n",
    "    quoting=csv.QUOTE_MINIMAL # Crucial: Specify quoting behavior\n",
    ")\n",
    "print(f\"✅ Data saved successfully at {cleaning_file_path}\")"
   ]
  }
 ],
 "metadata": {
  "kernelspec": {
   "display_name": ".venv_sentiment",
   "language": "python",
   "name": "python3"
  },
  "language_info": {
   "codemirror_mode": {
    "name": "ipython",
    "version": 3
   },
   "file_extension": ".py",
   "mimetype": "text/x-python",
   "name": "python",
   "nbconvert_exporter": "python",
   "pygments_lexer": "ipython3",
   "version": "3.13.2"
  }
 },
 "nbformat": 4,
 "nbformat_minor": 5
}
