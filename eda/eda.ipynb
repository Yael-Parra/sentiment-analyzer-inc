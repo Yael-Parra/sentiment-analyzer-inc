{
 "cells": [
  {
   "cell_type": "markdown",
   "metadata": {},
   "source": [
    "# <center> <span style=\"color:#f6f794\"> 📊 EDA</span> </center>\n",
    "\n",
    "_______"
   ]
  },
  {
   "cell_type": "markdown",
   "metadata": {},
   "source": [
    "### <span style=\"color:#f6f794\"> 📚 Importing libraries and setting displays </span>"
   ]
  },
  {
   "cell_type": "code",
   "execution_count": 2,
   "metadata": {},
   "outputs": [],
   "source": [
    "import pandas as pd\n",
    "import numpy as np\n",
    "import requests\n",
    "import gzip\n",
    "from io import BytesIO\n",
    "import os\n",
    "from pandas.tseries.offsets import DateOffset\n",
    "import matplotlib.pyplot as plt\n",
    "from matplotlib.colors import LinearSegmentedColormap\n",
    "import seaborn as sns\n",
    "import time\n",
    "import csv\n",
    "import re"
   ]
  },
  {
   "cell_type": "markdown",
   "metadata": {},
   "source": [
    "### <span style=\"color:#f6f794\"> 📂 Opening files and create dataframes of them </span>"
   ]
  },
  {
   "cell_type": "code",
   "execution_count": 3,
   "metadata": {},
   "outputs": [
    {
     "name": "stdout",
     "output_type": "stream",
     "text": [
      "c:\\Users\\yaelp\\Desktop\\Yael\\Bootcamp_FactoriaF5_IA_Promo4\\Proyectos\\Grupales\\sentiment-analyzer-inc\\eda\n",
      "c:\\Users\\yaelp\\Desktop\\Yael\\Bootcamp_FactoriaF5_IA_Promo4\\Proyectos\\Grupales\\sentiment-analyzer-inc\n",
      "c:\\Users\\yaelp\\Desktop\\Yael\\Bootcamp_FactoriaF5_IA_Promo4\\Proyectos\\Grupales\\sentiment-analyzer-inc\\eda\\data\n",
      "c:\\Users\\yaelp\\Desktop\\Yael\\Bootcamp_FactoriaF5_IA_Promo4\\Proyectos\\Grupales\\sentiment-analyzer-inc\\eda\\\n"
     ]
    }
   ],
   "source": [
    "# Setting paths\n",
    "current_dir = os.getcwd()                            # \\sentiment-analyzer-inc\\eda\n",
    "print(current_dir)\n",
    "parent_dir = os.path.dirname(current_dir)            # \\sentiment-analyzer-inc\n",
    "print(parent_dir)\n",
    "data_dir = os.path.join(current_dir, \"data\")          # \\sentiment-analyzer-inc\\eda\\data\n",
    "print(data_dir)\n",
    "cleaning_file_path = os.path.join(current_dir, \"\")      # \\sentiment-analyzer-inc\\eda\\data\\\n",
    "print(cleaning_file_path)"
   ]
  },
  {
   "cell_type": "code",
   "execution_count": null,
   "metadata": {},
   "outputs": [],
   "source": [
    "GITHUB_CLEAN_URL = \"https://raw.githubusercontent.com/Yael-Parra/Airbnb-Analysis/feature-eda-cleaning/data/youtube_dataset_cleaned.csv.gz\"\n",
    "\n",
    "\n",
    "def load_airbnb_data_from_github(url):\n",
    "    \"\"\"\n",
    "    Downloading and processing Airbnb data from GitHub repository.\n",
    "    \"\"\"\n",
    "    print(\"🔗 Downloading data from GitHub...\")\n",
    "\n",
    "    try:\n",
    "        # Download the compressed CSV file from GitHub\n",
    "        response = requests.get(url)\n",
    "        response.raise_for_status()\n",
    "\n",
    "        print(\"📊 Processing compressed file..\")\n",
    "\n",
    "        # Decompressing and reading the CSV file\n",
    "        with gzip.open(BytesIO(response.content), 'rt', encoding='utf-8') as f:\n",
    "            df = pd.read_csv(\n",
    "                f,\n",
    "                sep=',',                  # Specify the delimiter\n",
    "                encoding='utf-8',         # Specify the encoding\n",
    "                quoting=csv.QUOTE_MINIMAL # Specify the quoting behavior\n",
    "                )\n",
    "\n",
    "        print(f\"✅ Data downloaded succesfully!\")\n",
    "        \n",
    "        return df\n",
    "\n",
    "    except requests.exceptions.RequestException as req_err:\n",
    "        print(f\"❌ Network/Request Error while downloading data: {req_err}\")\n",
    "        return None\n",
    "    except Exception as e:\n",
    "        print(f\"❌ General Error while processing data: {e}\")\n",
    "        return None\n",
    "\n",
    "# Creating dataframe from GitHub URL\n",
    "df_clean_1 = load_airbnb_data_from_github(GITHUB_CLEAN_URL)"
   ]
  }
 ],
 "metadata": {
  "kernelspec": {
   "display_name": ".venv",
   "language": "python",
   "name": "python3"
  },
  "language_info": {
   "codemirror_mode": {
    "name": "ipython",
    "version": 3
   },
   "file_extension": ".py",
   "mimetype": "text/x-python",
   "name": "python",
   "nbconvert_exporter": "python",
   "pygments_lexer": "ipython3",
   "version": "3.13.2"
  }
 },
 "nbformat": 4,
 "nbformat_minor": 2
}
