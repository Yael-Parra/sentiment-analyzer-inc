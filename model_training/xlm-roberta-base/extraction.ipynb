{
 "cells": [
  {
   "cell_type": "code",
   "execution_count": 1,
   "id": "3da59f8d",
   "metadata": {},
   "outputs": [],
   "source": [
    "import pandas as pd\n",
    "import matplotlib.pyplot as plt\n",
    "import numpy as np\n",
    "from sklearn.model_selection import train_test_split, StratifiedKFold\n",
    "from sklearn.metrics import precision_score, recall_score, f1_score, classification_report\n",
    "from sklearn.utils.class_weight import compute_class_weight\n",
    "import torch\n",
    "from transformers import AutoTokenizer, AutoModelForSequenceClassification, TrainingArguments, Trainer, DataCollatorWithPadding, EarlyStoppingCallback\n",
    "from datasets import Dataset\n",
    "import warnings\n",
    "warnings.filterwarnings('ignore')\n",
    "from sklearn.model_selection import train_test_split\n",
    "from iterstrat.ml_stratifiers import MultilabelStratifiedShuffleSplit"
   ]
  },
  {
   "cell_type": "code",
   "execution_count": 17,
   "id": "5f7d8a23",
   "metadata": {},
   "outputs": [],
   "source": [
    "df_youtube= pd.read_csv(\"https://raw.githubusercontent.com/Yael-Parra/sentiment-analyzer-inc/feature/model-XLM-RoBERTa-base/etl/data/youtube_comments_hp2QZ0BGaps.csv.gz\")\n"
   ]
  },
  {
   "cell_type": "code",
   "execution_count": 18,
   "id": "e665307b",
   "metadata": {},
   "outputs": [
    {
     "name": "stdout",
     "output_type": "stream",
     "text": [
      "<class 'pandas.core.frame.DataFrame'>\n",
      "RangeIndex: 647 entries, 0 to 646\n",
      "Data columns (total 11 columns):\n",
      " #   Column              Non-Null Count  Dtype  \n",
      "---  ------              --------------  -----  \n",
      " 0   threadId            647 non-null    object \n",
      " 1   commentId           647 non-null    object \n",
      " 2   videoId             647 non-null    object \n",
      " 3   author              647 non-null    object \n",
      " 4   authorChannelId     647 non-null    object \n",
      " 5   isReply             647 non-null    bool   \n",
      " 6   parentCommentId     246 non-null    object \n",
      " 7   publishedAtComment  647 non-null    object \n",
      " 8   text                647 non-null    object \n",
      " 9   likeCountComment    647 non-null    int64  \n",
      " 10  replyCount          401 non-null    float64\n",
      "dtypes: bool(1), float64(1), int64(1), object(8)\n",
      "memory usage: 51.3+ KB\n"
     ]
    }
   ],
   "source": [
    "df_youtube.info()"
   ]
  },
  {
   "cell_type": "markdown",
   "id": "a2f93f3d",
   "metadata": {},
   "source": [
    "## Simplificamos el dataset porque sólo necesitamos el text para etiquetarlo:"
   ]
  },
  {
   "cell_type": "code",
   "execution_count": 19,
   "id": "c48e637a",
   "metadata": {},
   "outputs": [],
   "source": [
    "df_simple = df_youtube[['text']].copy()"
   ]
  },
  {
   "cell_type": "markdown",
   "id": "4465f1d7",
   "metadata": {},
   "source": [
    "- Limpiamos: "
   ]
  },
  {
   "cell_type": "code",
   "execution_count": 20,
   "id": "9eda2b8c",
   "metadata": {},
   "outputs": [],
   "source": [
    "df_simple['text'] = df_simple['text'].str.replace(r'\\s+', ' ', regex=True).str.strip()"
   ]
  },
  {
   "cell_type": "code",
   "execution_count": 21,
   "id": "ecf53d42",
   "metadata": {},
   "outputs": [],
   "source": [
    "df_simple = df_simple.dropna(subset=['text'])\n",
    "df_simple = df_simple[df_simple['text'] != \"\"]"
   ]
  },
  {
   "cell_type": "markdown",
   "id": "02fc0a01",
   "metadata": {},
   "source": [
    "## Creamos las columnnas de etiqueta vacías: "
   ]
  },
  {
   "cell_type": "code",
   "execution_count": 22,
   "id": "5c7a6b70",
   "metadata": {},
   "outputs": [],
   "source": [
    "etiquetas = [\n",
    "    'is_toxic', 'is_abusive', 'is_threat', 'is_provocative', 'is_obscene',\n",
    "    'is_hatespeech', 'is_racist', 'is_nationalist', 'is_sexist',\n",
    "    'is_homophobic', 'is_religious_hate', 'is_radicalism'\n",
    "]\n",
    "\n",
    "for etiqueta in etiquetas:\n",
    "    df_simple[etiqueta] = None "
   ]
  },
  {
   "cell_type": "markdown",
   "id": "a5ee398f",
   "metadata": {},
   "source": [
    "## Guardamos el dataset: "
   ]
  },
  {
   "cell_type": "code",
   "execution_count": 23,
   "id": "548b3d92",
   "metadata": {},
   "outputs": [
    {
     "name": "stdout",
     "output_type": "stream",
     "text": [
      "✅ Dataset para etiquetar creado.\n"
     ]
    }
   ],
   "source": [
    "df_simple.to_csv(\"dataset_youtube_para_etiquetar.csv\", index=False)\n",
    "\n",
    "print(\"✅ Dataset para etiquetar creado.\")"
   ]
  },
  {
   "cell_type": "code",
   "execution_count": 24,
   "id": "09de2b40",
   "metadata": {},
   "outputs": [
    {
     "data": {
      "application/vnd.microsoft.datawrangler.viewer.v0+json": {
       "columns": [
        {
         "name": "index",
         "rawType": "int64",
         "type": "integer"
        },
        {
         "name": "text",
         "rawType": "object",
         "type": "string"
        },
        {
         "name": "is_toxic",
         "rawType": "object",
         "type": "unknown"
        },
        {
         "name": "is_abusive",
         "rawType": "object",
         "type": "unknown"
        },
        {
         "name": "is_threat",
         "rawType": "object",
         "type": "unknown"
        },
        {
         "name": "is_provocative",
         "rawType": "object",
         "type": "unknown"
        },
        {
         "name": "is_obscene",
         "rawType": "object",
         "type": "unknown"
        },
        {
         "name": "is_hatespeech",
         "rawType": "object",
         "type": "unknown"
        },
        {
         "name": "is_racist",
         "rawType": "object",
         "type": "unknown"
        },
        {
         "name": "is_nationalist",
         "rawType": "object",
         "type": "unknown"
        },
        {
         "name": "is_sexist",
         "rawType": "object",
         "type": "unknown"
        },
        {
         "name": "is_homophobic",
         "rawType": "object",
         "type": "unknown"
        },
        {
         "name": "is_religious_hate",
         "rawType": "object",
         "type": "unknown"
        },
        {
         "name": "is_radicalism",
         "rawType": "object",
         "type": "unknown"
        }
       ],
       "ref": "370ad870-f219-473d-88c1-75d31e9c11f3",
       "rows": [
        [
         "0",
         "Its fitting, a stupid name for a stupid facility.",
         null,
         null,
         null,
         null,
         null,
         null,
         null,
         null,
         null,
         null,
         null,
         null
        ],
        [
         "1",
         "It’s heartbreaking to see 2 Thessalonians 2:8–12 playing out so clearly in our time. When people not only turn away from truth but take pleasure in the suffering of others—especially those fleeing persecution and hardship—it reveals a deep hardness of heart. What’s even more tragic is when such cruelty is cloaked in the name of Christianity. Mocking or making light of the abuse and suffering of immigrants is not just unkind; it’s a betrayal of the Gospel itself. Christ stood with the oppressed, the outcast, the stranger. To enjoy the tragedy of others and still claim to follow Him is a form of blasphemy.",
         null,
         null,
         null,
         null,
         null,
         null,
         null,
         null,
         null,
         null,
         null,
         null
        ],
        [
         "2",
         "Desantes should come out of the closet already",
         null,
         null,
         null,
         null,
         null,
         null,
         null,
         null,
         null,
         null,
         null,
         null
        ],
        [
         "3",
         "These people help put an evil, heartless devil in power. That's what u asked for. We tried to warn you.",
         null,
         null,
         null,
         null,
         null,
         null,
         null,
         null,
         null,
         null,
         null,
         null
        ],
        [
         "4",
         "There are so few alligator left out there that they taped a naked and afraid season because it was safe enough. So Florida won’t have sanctuary cities but will house immigrants in prisons that we have to pay for? By the way most of the alligators are gone from alligator ally due to decreased migration ( due to fencing), pollution of the Everglades, and deforestation ect. Also, some Republicans are so hard on California for their wild fires ( saying they need to sweep 🧹 the forest floors ) yet there have been wild fires in Alligator Ally as well. Which makes it unsafe for prisoners to be there.Ive driven through a wild fire through Alligator Ally. I’ll spare you my wild fire story. I could barely see in front of me. I prayed the entire time and had no idea if I was driving into a ball of flames. Literally trees ( on the side of the canal) and grass 1 foot from the road was on fire the entire weekend. One of the scariest times of my life. So clean up the Everglades., as top pal outing and stop building homes out there. I repeat There are so few alligator left out there that they taped a naked and afraid season because it was safe enough.",
         null,
         null,
         null,
         null,
         null,
         null,
         null,
         null,
         null,
         null,
         null,
         null
        ]
       ],
       "shape": {
        "columns": 13,
        "rows": 5
       }
      },
      "text/html": [
       "<div>\n",
       "<style scoped>\n",
       "    .dataframe tbody tr th:only-of-type {\n",
       "        vertical-align: middle;\n",
       "    }\n",
       "\n",
       "    .dataframe tbody tr th {\n",
       "        vertical-align: top;\n",
       "    }\n",
       "\n",
       "    .dataframe thead th {\n",
       "        text-align: right;\n",
       "    }\n",
       "</style>\n",
       "<table border=\"1\" class=\"dataframe\">\n",
       "  <thead>\n",
       "    <tr style=\"text-align: right;\">\n",
       "      <th></th>\n",
       "      <th>text</th>\n",
       "      <th>is_toxic</th>\n",
       "      <th>is_abusive</th>\n",
       "      <th>is_threat</th>\n",
       "      <th>is_provocative</th>\n",
       "      <th>is_obscene</th>\n",
       "      <th>is_hatespeech</th>\n",
       "      <th>is_racist</th>\n",
       "      <th>is_nationalist</th>\n",
       "      <th>is_sexist</th>\n",
       "      <th>is_homophobic</th>\n",
       "      <th>is_religious_hate</th>\n",
       "      <th>is_radicalism</th>\n",
       "    </tr>\n",
       "  </thead>\n",
       "  <tbody>\n",
       "    <tr>\n",
       "      <th>0</th>\n",
       "      <td>Its fitting, a stupid name for a stupid facility.</td>\n",
       "      <td>None</td>\n",
       "      <td>None</td>\n",
       "      <td>None</td>\n",
       "      <td>None</td>\n",
       "      <td>None</td>\n",
       "      <td>None</td>\n",
       "      <td>None</td>\n",
       "      <td>None</td>\n",
       "      <td>None</td>\n",
       "      <td>None</td>\n",
       "      <td>None</td>\n",
       "      <td>None</td>\n",
       "    </tr>\n",
       "    <tr>\n",
       "      <th>1</th>\n",
       "      <td>It’s heartbreaking to see 2 Thessalonians 2:8–...</td>\n",
       "      <td>None</td>\n",
       "      <td>None</td>\n",
       "      <td>None</td>\n",
       "      <td>None</td>\n",
       "      <td>None</td>\n",
       "      <td>None</td>\n",
       "      <td>None</td>\n",
       "      <td>None</td>\n",
       "      <td>None</td>\n",
       "      <td>None</td>\n",
       "      <td>None</td>\n",
       "      <td>None</td>\n",
       "    </tr>\n",
       "    <tr>\n",
       "      <th>2</th>\n",
       "      <td>Desantes should come out of the closet already</td>\n",
       "      <td>None</td>\n",
       "      <td>None</td>\n",
       "      <td>None</td>\n",
       "      <td>None</td>\n",
       "      <td>None</td>\n",
       "      <td>None</td>\n",
       "      <td>None</td>\n",
       "      <td>None</td>\n",
       "      <td>None</td>\n",
       "      <td>None</td>\n",
       "      <td>None</td>\n",
       "      <td>None</td>\n",
       "    </tr>\n",
       "    <tr>\n",
       "      <th>3</th>\n",
       "      <td>These people help put an evil, heartless devil...</td>\n",
       "      <td>None</td>\n",
       "      <td>None</td>\n",
       "      <td>None</td>\n",
       "      <td>None</td>\n",
       "      <td>None</td>\n",
       "      <td>None</td>\n",
       "      <td>None</td>\n",
       "      <td>None</td>\n",
       "      <td>None</td>\n",
       "      <td>None</td>\n",
       "      <td>None</td>\n",
       "      <td>None</td>\n",
       "    </tr>\n",
       "    <tr>\n",
       "      <th>4</th>\n",
       "      <td>There are so few alligator left out there that...</td>\n",
       "      <td>None</td>\n",
       "      <td>None</td>\n",
       "      <td>None</td>\n",
       "      <td>None</td>\n",
       "      <td>None</td>\n",
       "      <td>None</td>\n",
       "      <td>None</td>\n",
       "      <td>None</td>\n",
       "      <td>None</td>\n",
       "      <td>None</td>\n",
       "      <td>None</td>\n",
       "      <td>None</td>\n",
       "    </tr>\n",
       "  </tbody>\n",
       "</table>\n",
       "</div>"
      ],
      "text/plain": [
       "                                                text is_toxic is_abusive  \\\n",
       "0  Its fitting, a stupid name for a stupid facility.     None       None   \n",
       "1  It’s heartbreaking to see 2 Thessalonians 2:8–...     None       None   \n",
       "2     Desantes should come out of the closet already     None       None   \n",
       "3  These people help put an evil, heartless devil...     None       None   \n",
       "4  There are so few alligator left out there that...     None       None   \n",
       "\n",
       "  is_threat is_provocative is_obscene is_hatespeech is_racist is_nationalist  \\\n",
       "0      None           None       None          None      None           None   \n",
       "1      None           None       None          None      None           None   \n",
       "2      None           None       None          None      None           None   \n",
       "3      None           None       None          None      None           None   \n",
       "4      None           None       None          None      None           None   \n",
       "\n",
       "  is_sexist is_homophobic is_religious_hate is_radicalism  \n",
       "0      None          None              None          None  \n",
       "1      None          None              None          None  \n",
       "2      None          None              None          None  \n",
       "3      None          None              None          None  \n",
       "4      None          None              None          None  "
      ]
     },
     "execution_count": 24,
     "metadata": {},
     "output_type": "execute_result"
    }
   ],
   "source": [
    "df_simple.head()"
   ]
  },
  {
   "cell_type": "markdown",
   "id": "ecf03c4d",
   "metadata": {},
   "source": [
    "## Etiquetado:"
   ]
  },
  {
   "cell_type": "code",
   "execution_count": 25,
   "id": "313a531c",
   "metadata": {},
   "outputs": [],
   "source": [
    "from IPython.display import display, clear_output\n",
    "import ipywidgets as widgets"
   ]
  },
  {
   "cell_type": "markdown",
   "id": "086f8ae9",
   "metadata": {},
   "source": [
    "- Para recorrer los comemtarios: "
   ]
  },
  {
   "cell_type": "code",
   "execution_count": 28,
   "id": "28650bea",
   "metadata": {},
   "outputs": [
    {
     "data": {
      "application/vnd.jupyter.widget-view+json": {
       "model_id": "7cf2ee5d99c34bd0b504ddf38d01cf73",
       "version_major": 2,
       "version_minor": 0
      },
      "text/plain": [
       "Output()"
      ]
     },
     "metadata": {},
     "output_type": "display_data"
    },
    {
     "data": {
      "application/vnd.jupyter.widget-view+json": {
       "model_id": "06c443f3fa6d4660abb196860a38e3b1",
       "version_major": 2,
       "version_minor": 0
      },
      "text/plain": [
       "Checkbox(value=False, description='is_toxic')"
      ]
     },
     "metadata": {},
     "output_type": "display_data"
    },
    {
     "data": {
      "application/vnd.jupyter.widget-view+json": {
       "model_id": "97841ec66dd94f01a0353f9d614964a6",
       "version_major": 2,
       "version_minor": 0
      },
      "text/plain": [
       "Checkbox(value=False, description='is_abusive')"
      ]
     },
     "metadata": {},
     "output_type": "display_data"
    },
    {
     "data": {
      "application/vnd.jupyter.widget-view+json": {
       "model_id": "f7c50cd9803644fa8babd3d78f7c7b39",
       "version_major": 2,
       "version_minor": 0
      },
      "text/plain": [
       "Checkbox(value=False, description='is_threat')"
      ]
     },
     "metadata": {},
     "output_type": "display_data"
    },
    {
     "data": {
      "application/vnd.jupyter.widget-view+json": {
       "model_id": "71bbe15cf3c94f17ab751aff4c7d8b7f",
       "version_major": 2,
       "version_minor": 0
      },
      "text/plain": [
       "Checkbox(value=False, description='is_provocative')"
      ]
     },
     "metadata": {},
     "output_type": "display_data"
    },
    {
     "data": {
      "application/vnd.jupyter.widget-view+json": {
       "model_id": "3cc6156c4cbc4ffea9f88da1f9650907",
       "version_major": 2,
       "version_minor": 0
      },
      "text/plain": [
       "Checkbox(value=False, description='is_obscene')"
      ]
     },
     "metadata": {},
     "output_type": "display_data"
    },
    {
     "data": {
      "application/vnd.jupyter.widget-view+json": {
       "model_id": "3d72d0eed4994430b77640b0624543a8",
       "version_major": 2,
       "version_minor": 0
      },
      "text/plain": [
       "Checkbox(value=False, description='is_hatespeech')"
      ]
     },
     "metadata": {},
     "output_type": "display_data"
    },
    {
     "data": {
      "application/vnd.jupyter.widget-view+json": {
       "model_id": "310cb2e0f5e24985bf4887d474541949",
       "version_major": 2,
       "version_minor": 0
      },
      "text/plain": [
       "Checkbox(value=False, description='is_racist')"
      ]
     },
     "metadata": {},
     "output_type": "display_data"
    },
    {
     "data": {
      "application/vnd.jupyter.widget-view+json": {
       "model_id": "03c3c5a6740044da8c1fdccd01b1cfc2",
       "version_major": 2,
       "version_minor": 0
      },
      "text/plain": [
       "Checkbox(value=False, description='is_nationalist')"
      ]
     },
     "metadata": {},
     "output_type": "display_data"
    },
    {
     "data": {
      "application/vnd.jupyter.widget-view+json": {
       "model_id": "02e5dc3a96d24701a33a5282b9f9962a",
       "version_major": 2,
       "version_minor": 0
      },
      "text/plain": [
       "Checkbox(value=False, description='is_sexist')"
      ]
     },
     "metadata": {},
     "output_type": "display_data"
    },
    {
     "data": {
      "application/vnd.jupyter.widget-view+json": {
       "model_id": "a20d923f15e2422996b807405ab8e167",
       "version_major": 2,
       "version_minor": 0
      },
      "text/plain": [
       "Checkbox(value=False, description='is_homophobic')"
      ]
     },
     "metadata": {},
     "output_type": "display_data"
    },
    {
     "data": {
      "application/vnd.jupyter.widget-view+json": {
       "model_id": "f5ca533f4372462289a1c986cefd9611",
       "version_major": 2,
       "version_minor": 0
      },
      "text/plain": [
       "Checkbox(value=False, description='is_religious_hate')"
      ]
     },
     "metadata": {},
     "output_type": "display_data"
    },
    {
     "data": {
      "application/vnd.jupyter.widget-view+json": {
       "model_id": "a2c8894037754d699325b5a5d4ea0dd0",
       "version_major": 2,
       "version_minor": 0
      },
      "text/plain": [
       "Checkbox(value=False, description='is_radicalism')"
      ]
     },
     "metadata": {},
     "output_type": "display_data"
    },
    {
     "data": {
      "application/vnd.jupyter.widget-view+json": {
       "model_id": "8d9414cb6d784ab39320d8ed79c7512c",
       "version_major": 2,
       "version_minor": 0
      },
      "text/plain": [
       "Button(description='Guardar etiquetas y siguiente', style=ButtonStyle())"
      ]
     },
     "metadata": {},
     "output_type": "display_data"
    }
   ],
   "source": [
    "current_index = 0\n",
    "\n",
    "\n",
    "output = widgets.Output()\n",
    "checkboxes = {etiqueta: widgets.Checkbox(value=False, description=etiqueta) for etiqueta in etiquetas}\n",
    "button = widgets.Button(description=\"Guardar etiquetas y siguiente\")\n",
    "\n",
    "def show_comments(idx):\n",
    "    with output:\n",
    "        clear_output(wait=True)\n",
    "        print(f\"\\n🔹 Comentario {idx+1}/{len(df_simple)}\")\n",
    "        print(df_simple.iloc[idx]['text'])\n",
    "\n",
    "\n",
    "display(output)\n",
    "display(*(checkboxes[etiqueta] for etiqueta in etiquetas))\n",
    "display(button)\n",
    "\n",
    "show_comments(current_index)"
   ]
  },
  {
   "cell_type": "code",
   "execution_count": 29,
   "id": "162ca1a8",
   "metadata": {},
   "outputs": [],
   "source": [
    "def tag_comment(btn):\n",
    "    global current_index\n",
    "    for etiqueta in etiquetas:\n",
    "        df_simple.at[current_index, etiqueta] = checkboxes[etiqueta].value\n",
    "    \n",
    "    current_index += 1\n",
    "\n",
    "    if current_index < len(df_simple):\n",
    "        # Resetea checkboxes\n",
    "        for cb in checkboxes.values():\n",
    "            cb.value = False\n",
    "        show_comments(current_index)\n",
    "    else:\n",
    "        with output:\n",
    "            clear_output(wait=True)\n",
    "            print(\"✅ Terminaste de etiquetar todos los comentarios.\")\n",
    "\n",
    "button.on_click(tag_comment)"
   ]
  },
  {
   "cell_type": "markdown",
   "id": "68fdb86e",
   "metadata": {},
   "source": [
    "- Mostramos primer comentario y los checkboxes"
   ]
  },
  {
   "cell_type": "code",
   "execution_count": 34,
   "id": "7a6a1454",
   "metadata": {},
   "outputs": [],
   "source": [
    "# show_comments(current_index)\n",
    "# display(*(checkboxes[etiqueta] for etiqueta in etiquetas))\n",
    "# display(button)"
   ]
  },
  {
   "cell_type": "code",
   "execution_count": 32,
   "id": "15db95ac",
   "metadata": {},
   "outputs": [],
   "source": [
    "def guardar_dataset():\n",
    "    df_simple.to_csv(\"dataset_youtube_etiquetado_parcial.csv\", index=False, encoding='utf-8')\n",
    "    print(\"💾 Dataset parcial guardado.\")\n"
   ]
  },
  {
   "cell_type": "code",
   "execution_count": 33,
   "id": "b6795a88",
   "metadata": {},
   "outputs": [
    {
     "data": {
      "application/vnd.microsoft.datawrangler.viewer.v0+json": {
       "columns": [
        {
         "name": "index",
         "rawType": "int64",
         "type": "integer"
        },
        {
         "name": "text",
         "rawType": "object",
         "type": "string"
        },
        {
         "name": "is_toxic",
         "rawType": "object",
         "type": "unknown"
        },
        {
         "name": "is_abusive",
         "rawType": "object",
         "type": "unknown"
        },
        {
         "name": "is_threat",
         "rawType": "object",
         "type": "unknown"
        },
        {
         "name": "is_provocative",
         "rawType": "object",
         "type": "unknown"
        },
        {
         "name": "is_obscene",
         "rawType": "object",
         "type": "unknown"
        },
        {
         "name": "is_hatespeech",
         "rawType": "object",
         "type": "unknown"
        },
        {
         "name": "is_racist",
         "rawType": "object",
         "type": "unknown"
        },
        {
         "name": "is_nationalist",
         "rawType": "object",
         "type": "unknown"
        },
        {
         "name": "is_sexist",
         "rawType": "object",
         "type": "unknown"
        },
        {
         "name": "is_homophobic",
         "rawType": "object",
         "type": "unknown"
        },
        {
         "name": "is_religious_hate",
         "rawType": "object",
         "type": "unknown"
        },
        {
         "name": "is_radicalism",
         "rawType": "object",
         "type": "unknown"
        }
       ],
       "ref": "f091b896-1e19-4d87-9585-df03108e5685",
       "rows": [
        [
         "0",
         "Its fitting, a stupid name for a stupid facility.",
         "True",
         "False",
         "False",
         "True",
         "False",
         "True",
         "False",
         "False",
         "False",
         "False",
         "False",
         "False"
        ],
        [
         "1",
         "It’s heartbreaking to see 2 Thessalonians 2:8–12 playing out so clearly in our time. When people not only turn away from truth but take pleasure in the suffering of others—especially those fleeing persecution and hardship—it reveals a deep hardness of heart. What’s even more tragic is when such cruelty is cloaked in the name of Christianity. Mocking or making light of the abuse and suffering of immigrants is not just unkind; it’s a betrayal of the Gospel itself. Christ stood with the oppressed, the outcast, the stranger. To enjoy the tragedy of others and still claim to follow Him is a form of blasphemy.",
         "False",
         "False",
         "False",
         "False",
         "False",
         "False",
         "False",
         "False",
         "False",
         "False",
         "False",
         "False"
        ],
        [
         "2",
         "Desantes should come out of the closet already",
         "True",
         "False",
         "False",
         "True",
         "False",
         "False",
         "False",
         "False",
         "True",
         "True",
         "False",
         "False"
        ],
        [
         "3",
         "These people help put an evil, heartless devil in power. That's what u asked for. We tried to warn you.",
         "False",
         "False",
         "False",
         "True",
         "False",
         "False",
         "False",
         "False",
         "False",
         "False",
         "False",
         "False"
        ],
        [
         "4",
         "There are so few alligator left out there that they taped a naked and afraid season because it was safe enough. So Florida won’t have sanctuary cities but will house immigrants in prisons that we have to pay for? By the way most of the alligators are gone from alligator ally due to decreased migration ( due to fencing), pollution of the Everglades, and deforestation ect. Also, some Republicans are so hard on California for their wild fires ( saying they need to sweep 🧹 the forest floors ) yet there have been wild fires in Alligator Ally as well. Which makes it unsafe for prisoners to be there.Ive driven through a wild fire through Alligator Ally. I’ll spare you my wild fire story. I could barely see in front of me. I prayed the entire time and had no idea if I was driving into a ball of flames. Literally trees ( on the side of the canal) and grass 1 foot from the road was on fire the entire weekend. One of the scariest times of my life. So clean up the Everglades., as top pal outing and stop building homes out there. I repeat There are so few alligator left out there that they taped a naked and afraid season because it was safe enough.",
         null,
         null,
         null,
         null,
         null,
         null,
         null,
         null,
         null,
         null,
         null,
         null
        ]
       ],
       "shape": {
        "columns": 13,
        "rows": 5
       }
      },
      "text/html": [
       "<div>\n",
       "<style scoped>\n",
       "    .dataframe tbody tr th:only-of-type {\n",
       "        vertical-align: middle;\n",
       "    }\n",
       "\n",
       "    .dataframe tbody tr th {\n",
       "        vertical-align: top;\n",
       "    }\n",
       "\n",
       "    .dataframe thead th {\n",
       "        text-align: right;\n",
       "    }\n",
       "</style>\n",
       "<table border=\"1\" class=\"dataframe\">\n",
       "  <thead>\n",
       "    <tr style=\"text-align: right;\">\n",
       "      <th></th>\n",
       "      <th>text</th>\n",
       "      <th>is_toxic</th>\n",
       "      <th>is_abusive</th>\n",
       "      <th>is_threat</th>\n",
       "      <th>is_provocative</th>\n",
       "      <th>is_obscene</th>\n",
       "      <th>is_hatespeech</th>\n",
       "      <th>is_racist</th>\n",
       "      <th>is_nationalist</th>\n",
       "      <th>is_sexist</th>\n",
       "      <th>is_homophobic</th>\n",
       "      <th>is_religious_hate</th>\n",
       "      <th>is_radicalism</th>\n",
       "    </tr>\n",
       "  </thead>\n",
       "  <tbody>\n",
       "    <tr>\n",
       "      <th>0</th>\n",
       "      <td>Its fitting, a stupid name for a stupid facility.</td>\n",
       "      <td>True</td>\n",
       "      <td>False</td>\n",
       "      <td>False</td>\n",
       "      <td>True</td>\n",
       "      <td>False</td>\n",
       "      <td>True</td>\n",
       "      <td>False</td>\n",
       "      <td>False</td>\n",
       "      <td>False</td>\n",
       "      <td>False</td>\n",
       "      <td>False</td>\n",
       "      <td>False</td>\n",
       "    </tr>\n",
       "    <tr>\n",
       "      <th>1</th>\n",
       "      <td>It’s heartbreaking to see 2 Thessalonians 2:8–...</td>\n",
       "      <td>False</td>\n",
       "      <td>False</td>\n",
       "      <td>False</td>\n",
       "      <td>False</td>\n",
       "      <td>False</td>\n",
       "      <td>False</td>\n",
       "      <td>False</td>\n",
       "      <td>False</td>\n",
       "      <td>False</td>\n",
       "      <td>False</td>\n",
       "      <td>False</td>\n",
       "      <td>False</td>\n",
       "    </tr>\n",
       "    <tr>\n",
       "      <th>2</th>\n",
       "      <td>Desantes should come out of the closet already</td>\n",
       "      <td>True</td>\n",
       "      <td>False</td>\n",
       "      <td>False</td>\n",
       "      <td>True</td>\n",
       "      <td>False</td>\n",
       "      <td>False</td>\n",
       "      <td>False</td>\n",
       "      <td>False</td>\n",
       "      <td>True</td>\n",
       "      <td>True</td>\n",
       "      <td>False</td>\n",
       "      <td>False</td>\n",
       "    </tr>\n",
       "    <tr>\n",
       "      <th>3</th>\n",
       "      <td>These people help put an evil, heartless devil...</td>\n",
       "      <td>False</td>\n",
       "      <td>False</td>\n",
       "      <td>False</td>\n",
       "      <td>True</td>\n",
       "      <td>False</td>\n",
       "      <td>False</td>\n",
       "      <td>False</td>\n",
       "      <td>False</td>\n",
       "      <td>False</td>\n",
       "      <td>False</td>\n",
       "      <td>False</td>\n",
       "      <td>False</td>\n",
       "    </tr>\n",
       "    <tr>\n",
       "      <th>4</th>\n",
       "      <td>There are so few alligator left out there that...</td>\n",
       "      <td>None</td>\n",
       "      <td>None</td>\n",
       "      <td>None</td>\n",
       "      <td>None</td>\n",
       "      <td>None</td>\n",
       "      <td>None</td>\n",
       "      <td>None</td>\n",
       "      <td>None</td>\n",
       "      <td>None</td>\n",
       "      <td>None</td>\n",
       "      <td>None</td>\n",
       "      <td>None</td>\n",
       "    </tr>\n",
       "  </tbody>\n",
       "</table>\n",
       "</div>"
      ],
      "text/plain": [
       "                                                text is_toxic is_abusive  \\\n",
       "0  Its fitting, a stupid name for a stupid facility.     True      False   \n",
       "1  It’s heartbreaking to see 2 Thessalonians 2:8–...    False      False   \n",
       "2     Desantes should come out of the closet already     True      False   \n",
       "3  These people help put an evil, heartless devil...    False      False   \n",
       "4  There are so few alligator left out there that...     None       None   \n",
       "\n",
       "  is_threat is_provocative is_obscene is_hatespeech is_racist is_nationalist  \\\n",
       "0     False           True      False          True     False          False   \n",
       "1     False          False      False         False     False          False   \n",
       "2     False           True      False         False     False          False   \n",
       "3     False           True      False         False     False          False   \n",
       "4      None           None       None          None      None           None   \n",
       "\n",
       "  is_sexist is_homophobic is_religious_hate is_radicalism  \n",
       "0     False         False             False         False  \n",
       "1     False         False             False         False  \n",
       "2      True          True             False         False  \n",
       "3     False         False             False         False  \n",
       "4      None          None              None          None  "
      ]
     },
     "execution_count": 33,
     "metadata": {},
     "output_type": "execute_result"
    }
   ],
   "source": [
    "df_simple.head(5)"
   ]
  }
 ],
 "metadata": {
  "kernelspec": {
   "display_name": ".venv",
   "language": "python",
   "name": "python3"
  },
  "language_info": {
   "codemirror_mode": {
    "name": "ipython",
    "version": 3
   },
   "file_extension": ".py",
   "mimetype": "text/x-python",
   "name": "python",
   "nbconvert_exporter": "python",
   "pygments_lexer": "ipython3",
   "version": "3.12.1"
  }
 },
 "nbformat": 4,
 "nbformat_minor": 5
}
