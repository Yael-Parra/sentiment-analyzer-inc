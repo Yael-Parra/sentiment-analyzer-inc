{
 "cells": [
  {
   "cell_type": "markdown",
   "id": "e8040aa4",
   "metadata": {},
   "source": [
    "Entrenamiento Multietiqueta:\n",
    "==============================\n",
    "\n",
    "En este archivo usaremos el modelo preentrenado xlm-roberta-base con fine-tuning\n",
    "para aprovechar el conocimiento previo que tiene sobre el lenguaje. Esto nos permitirá:\n",
    "\n",
    "- Conseguir mejores resultados con menos datos y en menos tiempo.\n",
    "- Validar rápidamente la capacidad del modelo para detectar mensajes de odio.\n",
    "- Enfocarnos en otras partes del proyecto como la integración o la optimización.\n",
    "\n",
    "En un futuro, ampliaremos este modelo con más datos y etiquetas para mejorar\n",
    "su precisión y adaptarlo mejor a las distintas categorías de mensajes de odio."
   ]
  },
  {
   "cell_type": "code",
   "execution_count": 1,
   "id": "4c39b4ac",
   "metadata": {},
   "outputs": [],
   "source": [
    "import pandas as pd\n",
    "import matplotlib.pyplot as plt\n",
    "import numpy as np\n",
    "from sklearn.model_selection import train_test_split, StratifiedKFold\n",
    "from sklearn.metrics import precision_score, recall_score, f1_score, classification_report\n",
    "from sklearn.utils.class_weight import compute_class_weight\n",
    "import torch\n",
    "from transformers import AutoTokenizer, AutoModelForSequenceClassification, TrainingArguments, Trainer, DataCollatorWithPadding, EarlyStoppingCallback\n",
    "from datasets import Dataset\n",
    "import warnings\n",
    "warnings.filterwarnings('ignore')\n",
    "from sklearn.model_selection import train_test_split\n",
    "from iterstrat.ml_stratifiers import MultilabelStratifiedShuffleSplit"
   ]
  },
  {
   "cell_type": "code",
   "execution_count": 2,
   "id": "56f16c14",
   "metadata": {},
   "outputs": [],
   "source": [
    "torch.manual_seed(42)\n",
    "np.random.seed(42)"
   ]
  },
  {
   "cell_type": "markdown",
   "id": "29975e32",
   "metadata": {},
   "source": [
    "## 1. Cargamos los datos:"
   ]
  },
  {
   "cell_type": "code",
   "execution_count": 3,
   "id": "f14cac6e",
   "metadata": {},
   "outputs": [],
   "source": [
    "df_url = pd.read_csv(\"https://raw.githubusercontent.com/Yael-Parra/sentiment-analyzer-inc/feature/eda/eda/data/youtube_dataset_cleaned.csv.gz\")"
   ]
  },
  {
   "cell_type": "code",
   "execution_count": 4,
   "id": "b1cf4c86",
   "metadata": {},
   "outputs": [
    {
     "name": "stdout",
     "output_type": "stream",
     "text": [
      "<class 'pandas.core.frame.DataFrame'>\n",
      "RangeIndex: 1000 entries, 0 to 999\n",
      "Data columns (total 22 columns):\n",
      " #   Column               Non-Null Count  Dtype \n",
      "---  ------               --------------  ----- \n",
      " 0   comment_id           1000 non-null   object\n",
      " 1   video_id             1000 non-null   object\n",
      " 2   text                 1000 non-null   object\n",
      " 3   is_toxic             1000 non-null   bool  \n",
      " 4   is_abusive           1000 non-null   bool  \n",
      " 5   is_threat            1000 non-null   bool  \n",
      " 6   is_provocative       1000 non-null   bool  \n",
      " 7   is_obscene           1000 non-null   bool  \n",
      " 8   is_hatespeech        1000 non-null   bool  \n",
      " 9   is_racist            1000 non-null   bool  \n",
      " 10  is_nationalist       1000 non-null   bool  \n",
      " 11  is_sexist            1000 non-null   bool  \n",
      " 12  is_homophobic        1000 non-null   bool  \n",
      " 13  is_religious_hate    1000 non-null   bool  \n",
      " 14  is_radicalism        1000 non-null   bool  \n",
      " 15  comment_length       1000 non-null   int64 \n",
      " 16  word_count           1000 non-null   int64 \n",
      " 17  has_emoji            1000 non-null   bool  \n",
      " 18  has_url              1000 non-null   bool  \n",
      " 19  has_special_char     1000 non-null   bool  \n",
      " 20  is_self_promotional  1000 non-null   bool  \n",
      " 21  contains_tag         1000 non-null   bool  \n",
      "dtypes: bool(17), int64(2), object(3)\n",
      "memory usage: 55.8+ KB\n"
     ]
    }
   ],
   "source": [
    "df_url. info()"
   ]
  },
  {
   "cell_type": "code",
   "execution_count": 22,
   "id": "e79c2c4d",
   "metadata": {},
   "outputs": [
    {
     "name": "stdout",
     "output_type": "stream",
     "text": [
      "Correlación entre 'is_toxic' y la combinación de las demás etiquetas: 1.00\n"
     ]
    },
    {
     "data": {
      "image/png": "[encoded data removed]",
      "text/plain": [
       "<Figure size 600x400 with 1 Axes>"
      ]
     },
     "metadata": {},
     "output_type": "display_data"
    }
   ],
   "source": [
    "# Crear una columna combinada de las demás etiquetas\n",
    "df_clean_1 = df_url.copy()\n",
    "df_clean_1['combined_labels'] = df_clean_1[['is_abusive', 'is_threat', 'is_provocative', \n",
    "                                            'is_obscene', 'is_hatespeech', 'is_racist', \n",
    "                                            'is_nationalist', 'is_sexist', 'is_homophobic', \n",
    "                                            'is_religious_hate', 'is_radicalism']].max(axis=1)\n",
    "\n",
    "# Calcular la correlación entre is_toxic y la combinación de las demás etiquetas\n",
    "correlation = df_clean_1[['is_toxic', 'combined_labels']].corr().iloc[0, 1]\n",
    "print(f\"Correlación entre 'is_toxic' y la combinación de las demás etiquetas: {correlation:.2f}\")\n",
    "\n",
    "# Visualizar la relación con un gráfico\n",
    "import seaborn as sns\n",
    "import matplotlib.pyplot as plt\n",
    "\n",
    "plt.figure(figsize=(6, 4))\n",
    "sns.scatterplot(x=df_clean_1['combined_labels'], y=df_clean_1['is_toxic'], alpha=0.5)\n",
    "plt.title(\"Relación entre 'is_toxic' y la combinación de las demás etiquetas\")\n",
    "plt.xlabel(\"Combined Labels\")\n",
    "plt.ylabel(\"Is Toxic\")\n",
    "plt.show()"
   ]
  },
  {
   "cell_type": "code",
   "execution_count": 23,
   "id": "13b9487f",
   "metadata": {},
   "outputs": [
    {
     "name": "stdout",
     "output_type": "stream",
     "text": [
      "Filas donde 'is_toxic' es igual a 'combined_labels': 1000/1000 (100.00%)\n"
     ]
    }
   ],
   "source": [
    "# Verificar si is_toxic es igual a combined_labels en todas las filas\n",
    "df_clean_1['is_toxic_equals_combined'] = df_clean_1['is_toxic'] == df_clean_1['combined_labels']\n",
    "\n",
    "# Contar cuántas filas son iguales\n",
    "total_rows = len(df_clean_1)\n",
    "equal_rows = df_clean_1['is_toxic_equals_combined'].sum()\n",
    "print(f\"Filas donde 'is_toxic' es igual a 'combined_labels': {equal_rows}/{total_rows} ({(equal_rows / total_rows) * 100:.2f}%)\")"
   ]
  },
  {
   "cell_type": "code",
   "execution_count": 25,
   "id": "bcdf8882",
   "metadata": {},
   "outputs": [],
   "source": [
    "# Matriz de correlación entre todas las etiquetas\n",
    "# correlation_matrix = df_clean_1[['is_toxic'] + bool_cols].corr()\n",
    "\n",
    "# import seaborn as sns\n",
    "# import matplotlib.pyplot as plt\n",
    "\n",
    "# plt.figure(figsize=(10, 8))\n",
    "# sns.heatmap(correlation_matrix, annot=True, cmap='coolwarm', fmt=\".2f\")\n",
    "# plt.title(\"Matriz de Correlación entre Etiquetas\")\n",
    "# plt.show()"
   ]
  },
  {
   "cell_type": "markdown",
   "id": "e80c279c",
   "metadata": {},
   "source": [
    "### Seleccionamos las columnas relevantes, definimos las categorías: "
   ]
  },
  {
   "cell_type": "code",
   "execution_count": null,
   "id": "21afd8cc",
   "metadata": {},
   "outputs": [],
   "source": [
    "bool_cols = ['is_abusive', 'is_threat', 'is_provocative', 'is_obscene',\n",
    "              'is_hatespeech', 'is_racist', 'is_nationalist', 'is_sexist', 'is_homophobic',\n",
    "              'is_religious_hate', 'is_radicalism']"
   ]
  },
  {
   "cell_type": "code",
   "execution_count": 6,
   "id": "a7d92508",
   "metadata": {},
   "outputs": [],
   "source": [
    "df_multi = df_url[['text'] + bool_cols]"
   ]
  },
  {
   "cell_type": "markdown",
   "id": "9a0a8642",
   "metadata": {},
   "source": [
    "## Análisis de distribución de etiquetas"
   ]
  },
  {
   "cell_type": "code",
   "execution_count": 7,
   "id": "84ccffe6",
   "metadata": {},
   "outputs": [
    {
     "name": "stdout",
     "output_type": "stream",
     "text": [
      "\n",
      "Distribución de etiquetas:\n",
      "is_abusive           0.353\n",
      "is_provocative       0.161\n",
      "is_hatespeech        0.138\n",
      "is_racist            0.125\n",
      "is_obscene           0.100\n",
      "is_threat            0.021\n",
      "is_religious_hate    0.012\n",
      "is_nationalist       0.008\n",
      "is_sexist            0.001\n",
      "is_homophobic        0.000\n",
      "is_radicalism        0.000\n",
      "dtype: float64\n"
     ]
    },
    {
     "data": {
      "image/png": "[encoded data removed]",
      "text/plain": [
       "<Figure size 1000x600 with 1 Axes>"
      ]
     },
     "metadata": {},
     "output_type": "display_data"
    }
   ],
   "source": [
    "label_distribution = df_multi[bool_cols].mean().sort_values(ascending=False)\n",
    "print(\"\\nDistribución de etiquetas:\")\n",
    "print(label_distribution)\n",
    "\n",
    "plt.figure(figsize=(10, 6))\n",
    "label_distribution.plot(kind='bar')\n",
    "plt.title('Distribución de Etiquetas en el Dataset')\n",
    "plt.ylabel('Proporción de comentarios')\n",
    "plt.xticks(rotation=45)\n",
    "plt.tight_layout()\n",
    "plt.show()"
   ]
  },
  {
   "cell_type": "markdown",
   "id": "7eac08bb",
   "metadata": {},
   "source": [
    "- Algunas etiquetas son muy raras."
   ]
  },
  {
   "cell_type": "markdown",
   "id": "6c6349bb",
   "metadata": {},
   "source": [
    "## 2. Modelado Multietiqueta con XLM-RoBERTa"
   ]
  },
  {
   "cell_type": "markdown",
   "id": "38513f16",
   "metadata": {},
   "source": [
    "- Cargamos el tokenizador:"
   ]
  },
  {
   "cell_type": "code",
   "execution_count": 8,
   "id": "3e98588d",
   "metadata": {},
   "outputs": [],
   "source": [
    "tokenizer = AutoTokenizer.from_pretrained(\"xlm-roberta-base\")\n",
    "def tokenize_funct(batch):\n",
    "    return tokenizer(\n",
    "        batch[\"text\"],\n",
    "        padding=\"max_length\",\n",
    "        truncation=True,\n",
    "        max_length=128,\n",
    "    )"
   ]
  },
  {
   "cell_type": "markdown",
   "id": "9cf04e63",
   "metadata": {},
   "source": [
    "### Dividimos el dataset en entrenamiento, validación y test manteniendo la proporción de cada etiqueta en cada conjunto, para eso usamos Iterative stratification que es un algoritmo especializado para multietiqueta, así aseguramos una evaluación más justa: "
   ]
  },
  {
   "cell_type": "code",
   "execution_count": 9,
   "id": "7cda8363",
   "metadata": {},
   "outputs": [
    {
     "name": "stdout",
     "output_type": "stream",
     "text": [
      "================================================================================\n",
      "ANÁLISIS DE BALANCEO DE DATASETS\n",
      "================================================================================\n",
      "\n",
      "Train Dataset: 700 samples\n",
      "----------------------------------------\n",
      "is_abusive     :  247 pos ( 35.3%) |  453 neg ( 64.7%)\n",
      "is_threat      :   15 pos (  2.1%) |  685 neg ( 97.9%)\n",
      "is_provocative :  113 pos ( 16.1%) |  587 neg ( 83.9%)\n",
      "is_obscene     :   70 pos ( 10.0%) |  630 neg ( 90.0%)\n",
      "is_hatespeech  :   97 pos ( 13.9%) |  603 neg ( 86.1%)\n",
      "is_racist      :   88 pos ( 12.6%) |  612 neg ( 87.4%)\n",
      "is_nationalist :    6 pos (  0.9%) |  694 neg ( 99.1%)\n",
      "is_sexist      :    1 pos (  0.1%) |  699 neg ( 99.9%)\n",
      "is_homophobic  :    0 pos (  0.0%) |  700 neg (100.0%)\n",
      "is_religious_hate:    8 pos (  1.1%) |  692 neg ( 98.9%)\n",
      "is_radicalism  :    0 pos (  0.0%) |  700 neg (100.0%)\n",
      "\n",
      "Validation Dataset: 150 samples\n",
      "----------------------------------------\n",
      "is_abusive     :   53 pos ( 35.3%) |   97 neg ( 64.7%)\n",
      "is_threat      :    3 pos (  2.0%) |  147 neg ( 98.0%)\n",
      "is_provocative :   24 pos ( 16.0%) |  126 neg ( 84.0%)\n",
      "is_obscene     :   15 pos ( 10.0%) |  135 neg ( 90.0%)\n",
      "is_hatespeech  :   20 pos ( 13.3%) |  130 neg ( 86.7%)\n",
      "is_racist      :   17 pos ( 11.3%) |  133 neg ( 88.7%)\n",
      "is_nationalist :    1 pos (  0.7%) |  149 neg ( 99.3%)\n",
      "is_sexist      :    0 pos (  0.0%) |  150 neg (100.0%)\n",
      "is_homophobic  :    0 pos (  0.0%) |  150 neg (100.0%)\n",
      "is_religious_hate:    2 pos (  1.3%) |  148 neg ( 98.7%)\n",
      "is_radicalism  :    0 pos (  0.0%) |  150 neg (100.0%)\n",
      "\n",
      "Test Dataset: 150 samples\n",
      "----------------------------------------\n",
      "is_abusive     :   53 pos ( 35.3%) |   97 neg ( 64.7%)\n",
      "is_threat      :    3 pos (  2.0%) |  147 neg ( 98.0%)\n",
      "is_provocative :   24 pos ( 16.0%) |  126 neg ( 84.0%)\n",
      "is_obscene     :   15 pos ( 10.0%) |  135 neg ( 90.0%)\n",
      "is_hatespeech  :   21 pos ( 14.0%) |  129 neg ( 86.0%)\n",
      "is_racist      :   20 pos ( 13.3%) |  130 neg ( 86.7%)\n",
      "is_nationalist :    1 pos (  0.7%) |  149 neg ( 99.3%)\n",
      "is_sexist      :    0 pos (  0.0%) |  150 neg (100.0%)\n",
      "is_homophobic  :    0 pos (  0.0%) |  150 neg (100.0%)\n",
      "is_religious_hate:    2 pos (  1.3%) |  148 neg ( 98.7%)\n",
      "is_radicalism  :    0 pos (  0.0%) |  150 neg (100.0%)\n",
      "\n",
      "================================================================================\n",
      "VERIFICACIÓN DE CONSISTENCIA\n",
      "================================================================================\n",
      "is_abusive     : Train= 35.3% Val= 35.3% Test= 35.3% | Diff= 0.0% ✅ Balanceado\n",
      "is_threat      : Train=  2.1% Val=  2.0% Test=  2.0% | Diff= 0.1% ✅ Balanceado\n",
      "is_provocative : Train= 16.1% Val= 16.0% Test= 16.0% | Diff= 0.1% ✅ Balanceado\n",
      "is_obscene     : Train= 10.0% Val= 10.0% Test= 10.0% | Diff= 0.0% ✅ Balanceado\n",
      "is_hatespeech  : Train= 13.9% Val= 13.3% Test= 14.0% | Diff= 0.7% ✅ Balanceado\n",
      "is_racist      : Train= 12.6% Val= 11.3% Test= 13.3% | Diff= 2.0% ✅ Balanceado\n",
      "is_nationalist : Train=  0.9% Val=  0.7% Test=  0.7% | Diff= 0.2% ✅ Balanceado\n",
      "is_sexist      : Train=  0.1% Val=  0.0% Test=  0.0% | Diff= 0.1% ✅ Balanceado\n",
      "is_homophobic  : Train=  0.0% Val=  0.0% Test=  0.0% | Diff= 0.0% ✅ Balanceado\n",
      "is_religious_hate: Train=  1.1% Val=  1.3% Test=  1.3% | Diff= 0.2% ✅ Balanceado\n",
      "is_radicalism  : Train=  0.0% Val=  0.0% Test=  0.0% | Diff= 0.0% ✅ Balanceado\n"
     ]
    }
   ],
   "source": [
    "def advanced_multilabel_split(df, test_size=0.2, val_size=0.1, random_state=42):\n",
    "    \"\"\"\n",
    "    Triple split estratificado para train/val/test con balanceo multietiqueta\n",
    "    \"\"\"\n",
    "    try:\n",
    "        X = df[['text']].values\n",
    "        y = df[bool_cols].values\n",
    "\n",
    "        msss = MultilabelStratifiedShuffleSplit(\n",
    "            n_splits=1, test_size=test_size+val_size, random_state=random_state\n",
    "        )\n",
    "        train_idx, temp_idx = next(msss.split(X, y))\n",
    "        \n",
    "        X_temp = X[temp_idx]\n",
    "        y_temp = y[temp_idx]\n",
    "        temp_df = df.iloc[temp_idx]\n",
    "        \n",
    "        msss_temp = MultilabelStratifiedShuffleSplit(\n",
    "            n_splits=1, test_size=test_size/(test_size+val_size), random_state=random_state\n",
    "        )\n",
    "        val_idx_temp, test_idx_temp = next(msss_temp.split(X_temp, y_temp))\n",
    "        \n",
    "        train_df = df.iloc[train_idx]\n",
    "        val_df = temp_df.iloc[val_idx_temp]\n",
    "        test_df = temp_df.iloc[test_idx_temp]\n",
    "        \n",
    "    except ImportError:\n",
    "        print(\"Usando estratificación manual (instala iterative-stratification para mejor balanceo)\")\n",
    "\n",
    "        df_copy = df.copy()\n",
    "        df_copy['label_combination'] = df_copy[bool_cols].apply(\n",
    "            lambda x: ''.join(x.astype(str)), axis=1\n",
    "        )\n",
    "        \n",
    "        combination_counts = df_copy['label_combination'].value_counts()\n",
    "        rare_combinations = combination_counts[combination_counts < 10].index\n",
    "        df_copy.loc[df_copy['label_combination'].isin(rare_combinations), 'label_combination'] = 'rare'\n",
    "        \n",
    "\n",
    "        train_df, temp_df = train_test_split(\n",
    "            df_copy, test_size=test_size+val_size, random_state=random_state,\n",
    "            stratify=df_copy['label_combination']\n",
    "        )\n",
    "        \n",
    "        val_df, test_df = train_test_split(\n",
    "            temp_df, test_size=test_size/(test_size+val_size), random_state=random_state,\n",
    "            stratify=temp_df['label_combination']\n",
    "        )\n",
    "\n",
    "        train_df = train_df.drop('label_combination', axis=1)\n",
    "        val_df = val_df.drop('label_combination', axis=1)\n",
    "        test_df = test_df.drop('label_combination', axis=1)\n",
    "    \n",
    "    return train_df, val_df, test_df\n",
    "\n",
    "\n",
    "train_df, val_df, test_df = advanced_multilabel_split(df_multi, test_size=0.15, val_size=0.15, random_state=42)\n",
    "\n",
    "\n",
    "def analyze_dataset_balance(train_df, val_df, test_df, bool_cols):\n",
    "    \"\"\"\n",
    "    Analiza el balanceo de datasets\n",
    "    \"\"\"\n",
    "    print(\"=\"*80)\n",
    "    print(\"ANÁLISIS DE BALANCEO DE DATASETS\")\n",
    "    print(\"=\"*80)\n",
    "    \n",
    "    datasets = {'Train': train_df, 'Validation': val_df, 'Test': test_df}\n",
    "    \n",
    "    for name, df in datasets.items():\n",
    "        print(f\"\\n{name} Dataset: {len(df)} samples\")\n",
    "        print(\"-\" * 40)\n",
    "        \n",
    "        for col in bool_cols:\n",
    "            pos_count = df[col].sum()\n",
    "            neg_count = len(df) - pos_count\n",
    "            pos_pct = pos_count / len(df) * 100\n",
    "            \n",
    "            print(f\"{col:15}: {pos_count:4d} pos ({pos_pct:5.1f}%) | {neg_count:4d} neg ({100-pos_pct:5.1f}%)\")\n",
    "    \n",
    "    # Verificamos la similitud de distribuciones\n",
    "    print(f\"\\n{'='*80}\")\n",
    "    print(\"VERIFICACIÓN DE CONSISTENCIA\")\n",
    "    print(\"=\"*80)\n",
    "    \n",
    "    for col in bool_cols:\n",
    "        train_pct = train_df[col].mean() * 100\n",
    "        val_pct = val_df[col].mean() * 100\n",
    "        test_pct = test_df[col].mean() * 100\n",
    "        \n",
    "        max_diff = max(abs(train_pct - val_pct), abs(train_pct - test_pct), abs(val_pct - test_pct))\n",
    "        status = \"✅ Balanceado\" if max_diff < 5 else \"⚠️ Desbalanceado\"\n",
    "        \n",
    "        print(f\"{col:15}: Train={train_pct:5.1f}% Val={val_pct:5.1f}% Test={test_pct:5.1f}% | Diff={max_diff:4.1f}% {status}\")\n",
    "\n",
    "analyze_dataset_balance(train_df, val_df, test_df, bool_cols)"
   ]
  },
  {
   "cell_type": "markdown",
   "id": "12176467",
   "metadata": {},
   "source": [
    "## Convertir a formato HuggingFace"
   ]
  },
  {
   "cell_type": "code",
   "execution_count": 11,
   "id": "86c3c5a2",
   "metadata": {},
   "outputs": [],
   "source": [
    "train_dataset = Dataset.from_pandas(train_df)\n",
    "valid_dataset = Dataset.from_pandas(val_df)"
   ]
  },
  {
   "cell_type": "markdown",
   "id": "bbc1756f",
   "metadata": {},
   "source": [
    "## Tokenizar"
   ]
  },
  {
   "cell_type": "code",
   "execution_count": 12,
   "id": "54e52db6",
   "metadata": {},
   "outputs": [
    {
     "data": {
      "application/vnd.jupyter.widget-view+json": {
       "model_id": "108efd81233540b4aa07d87544b8393d",
       "version_major": 2,
       "version_minor": 0
      },
      "text/plain": [
       "Map:   0%|          | 0/700 [00:00<?, ? examples/s]"
      ]
     },
     "metadata": {},
     "output_type": "display_data"
    },
    {
     "data": {
      "application/vnd.jupyter.widget-view+json": {
       "model_id": "4939a628a80d4e06b593a6326b7de4f6",
       "version_major": 2,
       "version_minor": 0
      },
      "text/plain": [
       "Map:   0%|          | 0/150 [00:00<?, ? examples/s]"
      ]
     },
     "metadata": {},
     "output_type": "display_data"
    }
   ],
   "source": [
    "train_dataset = train_dataset.map(tokenize_funct, batched=True)\n",
    "valid_dataset = valid_dataset.map(tokenize_funct, batched=True)"
   ]
  },
  {
   "cell_type": "markdown",
   "id": "882ce4fc",
   "metadata": {},
   "source": [
    "## Prepararamos etiquetas"
   ]
  },
  {
   "cell_type": "code",
   "execution_count": 13,
   "id": "bb903c99",
   "metadata": {},
   "outputs": [
    {
     "data": {
      "application/vnd.jupyter.widget-view+json": {
       "model_id": "dabc30f0c4fa463c85fbaf55ef83e231",
       "version_major": 2,
       "version_minor": 0
      },
      "text/plain": [
       "Map:   0%|          | 0/700 [00:00<?, ? examples/s]"
      ]
     },
     "metadata": {},
     "output_type": "display_data"
    },
    {
     "data": {
      "application/vnd.jupyter.widget-view+json": {
       "model_id": "784bd630369048f48bbd220f311921b6",
       "version_major": 2,
       "version_minor": 0
      },
      "text/plain": [
       "Map:   0%|          | 0/150 [00:00<?, ? examples/s]"
      ]
     },
     "metadata": {},
     "output_type": "display_data"
    }
   ],
   "source": [
    "def prepare_labels(batch):\n",
    "    batch[\"labels\"] = [\n",
    "        [float(batch[col][i]) for col in bool_cols]\n",
    "        for i in range(len(batch[\"text\"]))\n",
    "    ]\n",
    "    return batch\n",
    "\n",
    "train_dataset = train_dataset.map(prepare_labels, batched=True)\n",
    "valid_dataset = valid_dataset.map(prepare_labels, batched=True)"
   ]
  },
  {
   "cell_type": "code",
   "execution_count": 14,
   "id": "c8183ab3",
   "metadata": {},
   "outputs": [],
   "source": [
    "# Data Collator\n",
    "data_collator = DataCollatorWithPadding(tokenizer=tokenizer)"
   ]
  },
  {
   "cell_type": "markdown",
   "id": "72b66d13",
   "metadata": {},
   "source": [
    "# 3. Configuración del Modelo y Entrenamiento"
   ]
  },
  {
   "cell_type": "markdown",
   "id": "af82ed68",
   "metadata": {},
   "source": [
    "- Cargamos el modelo preentrenado, le configuramos para que use las etiquetas de antes, especificamos que es multietiqueta."
   ]
  },
  {
   "cell_type": "code",
   "execution_count": 15,
   "id": "73a1d7d6",
   "metadata": {},
   "outputs": [
    {
     "name": "stderr",
     "output_type": "stream",
     "text": [
      "Some weights of XLMRobertaForSequenceClassification were not initialized from the model checkpoint at xlm-roberta-base and are newly initialized: ['classifier.dense.bias', 'classifier.dense.weight', 'classifier.out_proj.bias', 'classifier.out_proj.weight']\n",
      "You should probably TRAIN this model on a down-stream task to be able to use it for predictions and inference.\n"
     ]
    }
   ],
   "source": [
    "model = AutoModelForSequenceClassification.from_pretrained(\n",
    "    \"xlm-roberta-base\",\n",
    "    num_labels=len(bool_cols),\n",
    "    problem_type=\"multi_label_classification\" \n",
    ")"
   ]
  },
  {
   "cell_type": "markdown",
   "id": "dbc95134",
   "metadata": {},
   "source": [
    "## Métricas personalizadas"
   ]
  },
  {
   "cell_type": "code",
   "execution_count": 16,
   "id": "3ab7e6d2",
   "metadata": {},
   "outputs": [],
   "source": [
    "def compute_metrics(eval_pred):\n",
    "    \"\"\"\n",
    "    Función de métricas comprehensiva para multietiqueta\n",
    "    \"\"\"\n",
    "    logits, labels = eval_pred\n",
    "    predictions = torch.sigmoid(torch.tensor(logits))\n",
    "    \n",
    "\n",
    "    threshold = 0.35\n",
    "    preds = (predictions > threshold).int().numpy()\n",
    "    \n",
    "    metrics = {}\n",
    "    \n",
    "    class_metrics = []\n",
    "    \n",
    "    for i, col in enumerate(bool_cols):\n",
    "        target = labels[:, i]\n",
    "        prediction = preds[:, i]\n",
    "        \n",
    "        # Matriz de confusión\n",
    "        tn = ((target == 0) & (prediction == 0)).sum()\n",
    "        fp = ((target == 0) & (prediction == 1)).sum() \n",
    "        fn = ((target == 1) & (prediction == 0)).sum()\n",
    "        tp = ((target == 1) & (prediction == 1)).sum()\n",
    "        \n",
    "        # Evitar división por cero\n",
    "        precision_pos = tp / (tp + fp) if (tp + fp) > 0 else 0\n",
    "        recall_pos = tp / (tp + fn) if (tp + fn) > 0 else 0\n",
    "        precision_neg = tn / (tn + fn) if (tn + fn) > 0 else 0\n",
    "        recall_neg = tn / (tn + fp) if (tn + fp) > 0 else 0\n",
    "        \n",
    "        f1_pos = 2 * precision_pos * recall_pos / (precision_pos + recall_pos) if (precision_pos + recall_pos) > 0 else 0\n",
    "        f1_neg = 2 * precision_neg * recall_neg / (precision_neg + recall_neg) if (precision_neg + recall_neg) > 0 else 0\n",
    "        \n",
    "        # Métricas balanceadas\n",
    "        balanced_accuracy = (recall_pos + recall_neg) / 2\n",
    "        specificity = recall_neg\n",
    "        \n",
    "        # Guardamos las métricas\n",
    "        metrics[f\"{col}_precision\"] = precision_pos\n",
    "        metrics[f\"{col}_recall\"] = recall_pos\n",
    "        metrics[f\"{col}_f1\"] = f1_pos\n",
    "        metrics[f\"{col}_precision_neg\"] = precision_neg\n",
    "        metrics[f\"{col}_recall_neg\"] = recall_neg\n",
    "        metrics[f\"{col}_f1_neg\"] = f1_neg\n",
    "        metrics[f\"{col}_balanced_acc\"] = balanced_accuracy\n",
    "        metrics[f\"{col}_specificity\"] = specificity\n",
    "        \n",
    "        # Para promedios\n",
    "        class_metrics.append({\n",
    "            'precision': precision_pos,\n",
    "            'recall': recall_pos,\n",
    "            'f1': f1_pos,\n",
    "            'balanced_acc': balanced_accuracy,\n",
    "            'support': target.sum()\n",
    "        })\n",
    "    \n",
    "    # Métricas agregadas\n",
    "    total_support = sum([cm['support'] for cm in class_metrics])\n",
    "    \n",
    "    # Macro (promedio simple)\n",
    "    metrics[\"macro_precision\"] = np.mean([cm['precision'] for cm in class_metrics])\n",
    "    metrics[\"macro_recall\"] = np.mean([cm['recall'] for cm in class_metrics])\n",
    "    metrics[\"macro_f1\"] = np.mean([cm['f1'] for cm in class_metrics])\n",
    "    metrics[\"macro_balanced_acc\"] = np.mean([cm['balanced_acc'] for cm in class_metrics])\n",
    "    \n",
    "    # Weighted (por soporte)\n",
    "    if total_support > 0:\n",
    "        metrics[\"weighted_precision\"] = sum([cm['precision'] * cm['support'] for cm in class_metrics]) / total_support\n",
    "        metrics[\"weighted_recall\"] = sum([cm['recall'] * cm['support'] for cm in class_metrics]) / total_support\n",
    "        metrics[\"weighted_f1\"] = sum([cm['f1'] * cm['support'] for cm in class_metrics]) / total_support\n",
    "    else:\n",
    "        metrics[\"weighted_precision\"] = 0\n",
    "        metrics[\"weighted_recall\"] = 0\n",
    "        metrics[\"weighted_f1\"] = 0\n",
    "    \n",
    "    return metrics"
   ]
  },
  {
   "cell_type": "markdown",
   "id": "79af006a",
   "metadata": {},
   "source": [
    "## Argumentos de entrenamiento"
   ]
  },
  {
   "cell_type": "code",
   "execution_count": 17,
   "id": "dae8b142",
   "metadata": {},
   "outputs": [],
   "source": [
    "training_args = TrainingArguments(\n",
    "    output_dir=\"./xlm-roberta-multilabel-robust\",\n",
    "    \n",
    "    # Entrenamiento\n",
    "    num_train_epochs=3,\n",
    "    per_device_train_batch_size=32,\n",
    "    per_device_eval_batch_size=64,\n",
    "    gradient_accumulation_steps=1,  # Batch efectivo = 32\n",
    "    \n",
    "    # Evaluación y guardado\n",
    "    eval_strategy=\"epoch\",\n",
    "    #eval_steps=100,  # Evaluar frecuentemente\n",
    "    save_strategy=\"epoch\", \n",
    "    #save_steps=100,\n",
    "    logging_steps=50,\n",
    "    \n",
    "    # Optimización\n",
    "    learning_rate=2e-5,  # Conservador para evitar overfitting\n",
    "    lr_scheduler_type=\"cosine\",  # Scheduler que reduce LR gradualmente\n",
    "    warmup_ratio=0.1,\n",
    "    weight_decay=0.05,  # Regularización más fuerte\n",
    "    \n",
    "    # Anti-overfitting\n",
    "    load_best_model_at_end=True,\n",
    "    metric_for_best_model=\"eval_macro_f1\",\n",
    "    greater_is_better=True,\n",
    "    save_total_limit=3,  # Solo guardar 3 mejores checkpoints\n",
    "    \n",
    "    # Rendimiento\n",
    "    fp16=True,  # Activar para acelerar\n",
    "    dataloader_num_workers=4,\n",
    "    dataloader_pin_memory=True,\n",
    "    \n",
    "    # Logging\n",
    "    report_to=\"none\",\n",
    "    logging_dir=\"./logs\",\n",
    "    \n",
    "    # Reproducibilidad\n",
    "    seed=42,\n",
    "    data_seed=42,\n",
    ")\n",
    "\n",
    "# Callbacks anti-overfitting\n",
    "callbacks = [\n",
    "    EarlyStoppingCallback(\n",
    "        early_stopping_patience=5,  # Parar si no mejora en 5 evaluaciones\n",
    "        early_stopping_threshold=0.001  # Mejora mínima requerida\n",
    "    )\n",
    "]"
   ]
  },
  {
   "cell_type": "markdown",
   "id": "5ba8f6ec",
   "metadata": {},
   "source": [
    "## Trainer"
   ]
  },
  {
   "cell_type": "code",
   "execution_count": 19,
   "id": "a8a147ba",
   "metadata": {},
   "outputs": [
    {
     "name": "stderr",
     "output_type": "stream",
     "text": [
      "Some weights of XLMRobertaForSequenceClassification were not initialized from the model checkpoint at xlm-roberta-base and are newly initialized: ['classifier.dense.bias', 'classifier.dense.weight', 'classifier.out_proj.bias', 'classifier.out_proj.weight']\n",
      "You should probably TRAIN this model on a down-stream task to be able to use it for predictions and inference.\n"
     ]
    },
    {
     "name": "stdout",
     "output_type": "stream",
     "text": [
      "Congeladas las primeras 4 capas del encoder\n"
     ]
    }
   ],
   "source": [
    "# Reemplaza la configuración del modelo\n",
    "model = AutoModelForSequenceClassification.from_pretrained(\n",
    "    \"xlm-roberta-base\",\n",
    "    num_labels=len(bool_cols),\n",
    "    problem_type=\"multi_label_classification\",\n",
    "    hidden_dropout_prob=0.3,  # Dropout más fuerte\n",
    "    attention_probs_dropout_prob=0.3,\n",
    "    classifier_dropout=0.3\n",
    ")\n",
    "\n",
    "# Congelar algunas capas iniciales para evitar overfitting\n",
    "def freeze_early_layers(model, num_layers_to_freeze=6):\n",
    "    \"\"\"\n",
    "    Congela las primeras capas para reducir overfitting\n",
    "    \"\"\"\n",
    "    for param in model.roberta.embeddings.parameters():\n",
    "        param.requires_grad = False\n",
    "    \n",
    "    for layer in model.roberta.encoder.layer[:num_layers_to_freeze]:\n",
    "        for param in layer.parameters():\n",
    "            param.requires_grad = False\n",
    "    \n",
    "    print(f\"Congeladas las primeras {num_layers_to_freeze} capas del encoder\")\n",
    "\n",
    "# Aplicar congelación parcial\n",
    "freeze_early_layers(model, num_layers_to_freeze=4)"
   ]
  },
  {
   "cell_type": "code",
   "execution_count": 20,
   "id": "66198bb0",
   "metadata": {},
   "outputs": [
    {
     "data": {
      "application/vnd.jupyter.widget-view+json": {
       "model_id": "ee24e75e35e74ae99d049577bca702fa",
       "version_major": 2,
       "version_minor": 0
      },
      "text/plain": [
       "Map:   0%|          | 0/700 [00:00<?, ? examples/s]"
      ]
     },
     "metadata": {},
     "output_type": "display_data"
    },
    {
     "data": {
      "application/vnd.jupyter.widget-view+json": {
       "model_id": "cd3387b637f145e4923e845737fef822",
       "version_major": 2,
       "version_minor": 0
      },
      "text/plain": [
       "Map:   0%|          | 0/150 [00:00<?, ? examples/s]"
      ]
     },
     "metadata": {},
     "output_type": "display_data"
    },
    {
     "data": {
      "application/vnd.jupyter.widget-view+json": {
       "model_id": "4644a9272c1b4c778186bc9b4b4dc117",
       "version_major": 2,
       "version_minor": 0
      },
      "text/plain": [
       "Map:   0%|          | 0/150 [00:00<?, ? examples/s]"
      ]
     },
     "metadata": {},
     "output_type": "display_data"
    },
    {
     "data": {
      "application/vnd.jupyter.widget-view+json": {
       "model_id": "d081c98dcafc4857a6d9ad6f951c7226",
       "version_major": 2,
       "version_minor": 0
      },
      "text/plain": [
       "Map:   0%|          | 0/700 [00:00<?, ? examples/s]"
      ]
     },
     "metadata": {},
     "output_type": "display_data"
    },
    {
     "data": {
      "application/vnd.jupyter.widget-view+json": {
       "model_id": "bd5d35b463b54919acda41ee8259dc84",
       "version_major": 2,
       "version_minor": 0
      },
      "text/plain": [
       "Map:   0%|          | 0/150 [00:00<?, ? examples/s]"
      ]
     },
     "metadata": {},
     "output_type": "display_data"
    },
    {
     "data": {
      "application/vnd.jupyter.widget-view+json": {
       "model_id": "a6fc7998504c4af79a15793512c64bb9",
       "version_major": 2,
       "version_minor": 0
      },
      "text/plain": [
       "Map:   0%|          | 0/150 [00:00<?, ? examples/s]"
      ]
     },
     "metadata": {},
     "output_type": "display_data"
    },
    {
     "name": "stdout",
     "output_type": "stream",
     "text": [
      "🚀 Iniciando entrenamiento con monitoreo anti-overfitting...\n"
     ]
    },
    {
     "data": {
      "text/html": [
       "\n",
       "    <div>\n",
       "      \n",
       "      <progress value='66' max='66' style='width:300px; height:20px; vertical-align: middle;'></progress>\n",
       "      [66/66 27:35, Epoch 3/3]\n",
       "    </div>\n",
       "    <table border=\"1\" class=\"dataframe\">\n",
       "  <thead>\n",
       " <tr style=\"text-align: left;\">\n",
       "      <th>Epoch</th>\n",
       "      <th>Training Loss</th>\n",
       "      <th>Validation Loss</th>\n",
       "      <th>Is Abusive Precision</th>\n",
       "      <th>Is Abusive Recall</th>\n",
       "      <th>Is Abusive F1</th>\n",
       "      <th>Is Abusive Precision Neg</th>\n",
       "      <th>Is Abusive Recall Neg</th>\n",
       "      <th>Is Abusive F1 Neg</th>\n",
       "      <th>Is Abusive Balanced Acc</th>\n",
       "      <th>Is Abusive Specificity</th>\n",
       "      <th>Is Threat Precision</th>\n",
       "      <th>Is Threat Recall</th>\n",
       "      <th>Is Threat F1</th>\n",
       "      <th>Is Threat Precision Neg</th>\n",
       "      <th>Is Threat Recall Neg</th>\n",
       "      <th>Is Threat F1 Neg</th>\n",
       "      <th>Is Threat Balanced Acc</th>\n",
       "      <th>Is Threat Specificity</th>\n",
       "      <th>Is Provocative Precision</th>\n",
       "      <th>Is Provocative Recall</th>\n",
       "      <th>Is Provocative F1</th>\n",
       "      <th>Is Provocative Precision Neg</th>\n",
       "      <th>Is Provocative Recall Neg</th>\n",
       "      <th>Is Provocative F1 Neg</th>\n",
       "      <th>Is Provocative Balanced Acc</th>\n",
       "      <th>Is Provocative Specificity</th>\n",
       "      <th>Is Obscene Precision</th>\n",
       "      <th>Is Obscene Recall</th>\n",
       "      <th>Is Obscene F1</th>\n",
       "      <th>Is Obscene Precision Neg</th>\n",
       "      <th>Is Obscene Recall Neg</th>\n",
       "      <th>Is Obscene F1 Neg</th>\n",
       "      <th>Is Obscene Balanced Acc</th>\n",
       "      <th>Is Obscene Specificity</th>\n",
       "      <th>Is Hatespeech Precision</th>\n",
       "      <th>Is Hatespeech Recall</th>\n",
       "      <th>Is Hatespeech F1</th>\n",
       "      <th>Is Hatespeech Precision Neg</th>\n",
       "      <th>Is Hatespeech Recall Neg</th>\n",
       "      <th>Is Hatespeech F1 Neg</th>\n",
       "      <th>Is Hatespeech Balanced Acc</th>\n",
       "      <th>Is Hatespeech Specificity</th>\n",
       "      <th>Is Racist Precision</th>\n",
       "      <th>Is Racist Recall</th>\n",
       "      <th>Is Racist F1</th>\n",
       "      <th>Is Racist Precision Neg</th>\n",
       "      <th>Is Racist Recall Neg</th>\n",
       "      <th>Is Racist F1 Neg</th>\n",
       "      <th>Is Racist Balanced Acc</th>\n",
       "      <th>Is Racist Specificity</th>\n",
       "      <th>Is Nationalist Precision</th>\n",
       "      <th>Is Nationalist Recall</th>\n",
       "      <th>Is Nationalist F1</th>\n",
       "      <th>Is Nationalist Precision Neg</th>\n",
       "      <th>Is Nationalist Recall Neg</th>\n",
       "      <th>Is Nationalist F1 Neg</th>\n",
       "      <th>Is Nationalist Balanced Acc</th>\n",
       "      <th>Is Nationalist Specificity</th>\n",
       "      <th>Is Sexist Precision</th>\n",
       "      <th>Is Sexist Recall</th>\n",
       "      <th>Is Sexist F1</th>\n",
       "      <th>Is Sexist Precision Neg</th>\n",
       "      <th>Is Sexist Recall Neg</th>\n",
       "      <th>Is Sexist F1 Neg</th>\n",
       "      <th>Is Sexist Balanced Acc</th>\n",
       "      <th>Is Sexist Specificity</th>\n",
       "      <th>Is Homophobic Precision</th>\n",
       "      <th>Is Homophobic Recall</th>\n",
       "      <th>Is Homophobic F1</th>\n",
       "      <th>Is Homophobic Precision Neg</th>\n",
       "      <th>Is Homophobic Recall Neg</th>\n",
       "      <th>Is Homophobic F1 Neg</th>\n",
       "      <th>Is Homophobic Balanced Acc</th>\n",
       "      <th>Is Homophobic Specificity</th>\n",
       "      <th>Is Religious Hate Precision</th>\n",
       "      <th>Is Religious Hate Recall</th>\n",
       "      <th>Is Religious Hate F1</th>\n",
       "      <th>Is Religious Hate Precision Neg</th>\n",
       "      <th>Is Religious Hate Recall Neg</th>\n",
       "      <th>Is Religious Hate F1 Neg</th>\n",
       "      <th>Is Religious Hate Balanced Acc</th>\n",
       "      <th>Is Religious Hate Specificity</th>\n",
       "      <th>Is Radicalism Precision</th>\n",
       "      <th>Is Radicalism Recall</th>\n",
       "      <th>Is Radicalism F1</th>\n",
       "      <th>Is Radicalism Precision Neg</th>\n",
       "      <th>Is Radicalism Recall Neg</th>\n",
       "      <th>Is Radicalism F1 Neg</th>\n",
       "      <th>Is Radicalism Balanced Acc</th>\n",
       "      <th>Is Radicalism Specificity</th>\n",
       "      <th>Macro Precision</th>\n",
       "      <th>Macro Recall</th>\n",
       "      <th>Macro F1</th>\n",
       "      <th>Macro Balanced Acc</th>\n",
       "      <th>Weighted Precision</th>\n",
       "      <th>Weighted Recall</th>\n",
       "      <th>Weighted F1</th>\n",
       "    </tr>\n",
       "  </thead>\n",
       "  <tbody>\n",
       "    <tr>\n",
       "      <td>1</td>\n",
       "      <td>No log</td>\n",
       "      <td>0.544848</td>\n",
       "      <td>0.353333</td>\n",
       "      <td>1.000000</td>\n",
       "      <td>0.522167</td>\n",
       "      <td>0</td>\n",
       "      <td>0.000000</td>\n",
       "      <td>0</td>\n",
       "      <td>0.500000</td>\n",
       "      <td>0.000000</td>\n",
       "      <td>0.023077</td>\n",
       "      <td>1.000000</td>\n",
       "      <td>0.045113</td>\n",
       "      <td>1.000000</td>\n",
       "      <td>0.136054</td>\n",
       "      <td>0.239521</td>\n",
       "      <td>0.568027</td>\n",
       "      <td>0.136054</td>\n",
       "      <td>0.173913</td>\n",
       "      <td>1.000000</td>\n",
       "      <td>0.296296</td>\n",
       "      <td>1.000000</td>\n",
       "      <td>0.095238</td>\n",
       "      <td>0.173913</td>\n",
       "      <td>0.547619</td>\n",
       "      <td>0.095238</td>\n",
       "      <td>0.102740</td>\n",
       "      <td>1.000000</td>\n",
       "      <td>0.186335</td>\n",
       "      <td>1.000000</td>\n",
       "      <td>0.029630</td>\n",
       "      <td>0.057554</td>\n",
       "      <td>0.514815</td>\n",
       "      <td>0.029630</td>\n",
       "      <td>0.145038</td>\n",
       "      <td>0.950000</td>\n",
       "      <td>0.251656</td>\n",
       "      <td>0.947368</td>\n",
       "      <td>0.138462</td>\n",
       "      <td>0.241611</td>\n",
       "      <td>0.544231</td>\n",
       "      <td>0.138462</td>\n",
       "      <td>0.120567</td>\n",
       "      <td>1.000000</td>\n",
       "      <td>0.215190</td>\n",
       "      <td>1.000000</td>\n",
       "      <td>0.067669</td>\n",
       "      <td>0.126761</td>\n",
       "      <td>0.533835</td>\n",
       "      <td>0.067669</td>\n",
       "      <td>0.007407</td>\n",
       "      <td>1.000000</td>\n",
       "      <td>0.014706</td>\n",
       "      <td>1.000000</td>\n",
       "      <td>0.100671</td>\n",
       "      <td>0.182927</td>\n",
       "      <td>0.550336</td>\n",
       "      <td>0.100671</td>\n",
       "      <td>0.000000</td>\n",
       "      <td>0</td>\n",
       "      <td>0</td>\n",
       "      <td>1.000000</td>\n",
       "      <td>0.060000</td>\n",
       "      <td>0.113208</td>\n",
       "      <td>0.030000</td>\n",
       "      <td>0.060000</td>\n",
       "      <td>0.000000</td>\n",
       "      <td>0</td>\n",
       "      <td>0</td>\n",
       "      <td>1.000000</td>\n",
       "      <td>0.073333</td>\n",
       "      <td>0.136646</td>\n",
       "      <td>0.036667</td>\n",
       "      <td>0.073333</td>\n",
       "      <td>0.013333</td>\n",
       "      <td>1.000000</td>\n",
       "      <td>0.026316</td>\n",
       "      <td>0</td>\n",
       "      <td>0.000000</td>\n",
       "      <td>0</td>\n",
       "      <td>0.500000</td>\n",
       "      <td>0.000000</td>\n",
       "      <td>0.000000</td>\n",
       "      <td>0</td>\n",
       "      <td>0</td>\n",
       "      <td>1.000000</td>\n",
       "      <td>0.040000</td>\n",
       "      <td>0.076923</td>\n",
       "      <td>0.020000</td>\n",
       "      <td>0.040000</td>\n",
       "      <td>0.085401</td>\n",
       "      <td>0.722727</td>\n",
       "      <td>0.141616</td>\n",
       "      <td>0.395048</td>\n",
       "      <td>0.218484</td>\n",
       "      <td>0.992593</td>\n",
       "      <td>0.344260</td>\n",
       "    </tr>\n",
       "    <tr>\n",
       "      <td>2</td>\n",
       "      <td>No log</td>\n",
       "      <td>0.459264</td>\n",
       "      <td>0.353333</td>\n",
       "      <td>1.000000</td>\n",
       "      <td>0.522167</td>\n",
       "      <td>0</td>\n",
       "      <td>0.000000</td>\n",
       "      <td>0</td>\n",
       "      <td>0.500000</td>\n",
       "      <td>0.000000</td>\n",
       "      <td>0.000000</td>\n",
       "      <td>0.000000</td>\n",
       "      <td>0</td>\n",
       "      <td>0.979310</td>\n",
       "      <td>0.965986</td>\n",
       "      <td>0.972603</td>\n",
       "      <td>0.482993</td>\n",
       "      <td>0.965986</td>\n",
       "      <td>0.250000</td>\n",
       "      <td>0.041667</td>\n",
       "      <td>0.071429</td>\n",
       "      <td>0.842466</td>\n",
       "      <td>0.976190</td>\n",
       "      <td>0.904412</td>\n",
       "      <td>0.508929</td>\n",
       "      <td>0.976190</td>\n",
       "      <td>0.108527</td>\n",
       "      <td>0.933333</td>\n",
       "      <td>0.194444</td>\n",
       "      <td>0.952381</td>\n",
       "      <td>0.148148</td>\n",
       "      <td>0.256410</td>\n",
       "      <td>0.540741</td>\n",
       "      <td>0.148148</td>\n",
       "      <td>0.090909</td>\n",
       "      <td>0.050000</td>\n",
       "      <td>0.064516</td>\n",
       "      <td>0.863309</td>\n",
       "      <td>0.923077</td>\n",
       "      <td>0.892193</td>\n",
       "      <td>0.486538</td>\n",
       "      <td>0.923077</td>\n",
       "      <td>0.200000</td>\n",
       "      <td>0.058824</td>\n",
       "      <td>0.090909</td>\n",
       "      <td>0.889655</td>\n",
       "      <td>0.969925</td>\n",
       "      <td>0.928058</td>\n",
       "      <td>0.514374</td>\n",
       "      <td>0.969925</td>\n",
       "      <td>0.000000</td>\n",
       "      <td>0.000000</td>\n",
       "      <td>0</td>\n",
       "      <td>0.993056</td>\n",
       "      <td>0.959732</td>\n",
       "      <td>0.976109</td>\n",
       "      <td>0.479866</td>\n",
       "      <td>0.959732</td>\n",
       "      <td>0.000000</td>\n",
       "      <td>0</td>\n",
       "      <td>0</td>\n",
       "      <td>1.000000</td>\n",
       "      <td>0.773333</td>\n",
       "      <td>0.872180</td>\n",
       "      <td>0.386667</td>\n",
       "      <td>0.773333</td>\n",
       "      <td>0.000000</td>\n",
       "      <td>0</td>\n",
       "      <td>0</td>\n",
       "      <td>1.000000</td>\n",
       "      <td>0.946667</td>\n",
       "      <td>0.972603</td>\n",
       "      <td>0.473333</td>\n",
       "      <td>0.946667</td>\n",
       "      <td>0.015873</td>\n",
       "      <td>1.000000</td>\n",
       "      <td>0.031250</td>\n",
       "      <td>1.000000</td>\n",
       "      <td>0.162162</td>\n",
       "      <td>0.279070</td>\n",
       "      <td>0.581081</td>\n",
       "      <td>0.162162</td>\n",
       "      <td>0.000000</td>\n",
       "      <td>0</td>\n",
       "      <td>0</td>\n",
       "      <td>1.000000</td>\n",
       "      <td>0.446667</td>\n",
       "      <td>0.617512</td>\n",
       "      <td>0.223333</td>\n",
       "      <td>0.446667</td>\n",
       "      <td>0.092604</td>\n",
       "      <td>0.280348</td>\n",
       "      <td>0.088611</td>\n",
       "      <td>0.470714</td>\n",
       "      <td>0.234107</td>\n",
       "      <td>0.533333</td>\n",
       "      <td>0.260771</td>\n",
       "    </tr>\n",
       "    <tr>\n",
       "      <td>3</td>\n",
       "      <td>0.525400</td>\n",
       "      <td>0.438335</td>\n",
       "      <td>0.353333</td>\n",
       "      <td>1.000000</td>\n",
       "      <td>0.522167</td>\n",
       "      <td>0</td>\n",
       "      <td>0.000000</td>\n",
       "      <td>0</td>\n",
       "      <td>0.500000</td>\n",
       "      <td>0.000000</td>\n",
       "      <td>0.000000</td>\n",
       "      <td>0.000000</td>\n",
       "      <td>0</td>\n",
       "      <td>0.979592</td>\n",
       "      <td>0.979592</td>\n",
       "      <td>0.979592</td>\n",
       "      <td>0.489796</td>\n",
       "      <td>0.979592</td>\n",
       "      <td>0</td>\n",
       "      <td>0.000000</td>\n",
       "      <td>0</td>\n",
       "      <td>0.840000</td>\n",
       "      <td>1.000000</td>\n",
       "      <td>0.913043</td>\n",
       "      <td>0.500000</td>\n",
       "      <td>1.000000</td>\n",
       "      <td>0.110000</td>\n",
       "      <td>0.733333</td>\n",
       "      <td>0.191304</td>\n",
       "      <td>0.920000</td>\n",
       "      <td>0.340741</td>\n",
       "      <td>0.497297</td>\n",
       "      <td>0.537037</td>\n",
       "      <td>0.340741</td>\n",
       "      <td>0.200000</td>\n",
       "      <td>0.050000</td>\n",
       "      <td>0.080000</td>\n",
       "      <td>0.868966</td>\n",
       "      <td>0.969231</td>\n",
       "      <td>0.916364</td>\n",
       "      <td>0.509615</td>\n",
       "      <td>0.969231</td>\n",
       "      <td>0</td>\n",
       "      <td>0.000000</td>\n",
       "      <td>0</td>\n",
       "      <td>0.886667</td>\n",
       "      <td>1.000000</td>\n",
       "      <td>0.939929</td>\n",
       "      <td>0.500000</td>\n",
       "      <td>1.000000</td>\n",
       "      <td>0.000000</td>\n",
       "      <td>0.000000</td>\n",
       "      <td>0</td>\n",
       "      <td>0.993289</td>\n",
       "      <td>0.993289</td>\n",
       "      <td>0.993289</td>\n",
       "      <td>0.496644</td>\n",
       "      <td>0.993289</td>\n",
       "      <td>0.000000</td>\n",
       "      <td>0</td>\n",
       "      <td>0</td>\n",
       "      <td>1.000000</td>\n",
       "      <td>0.920000</td>\n",
       "      <td>0.958333</td>\n",
       "      <td>0.460000</td>\n",
       "      <td>0.920000</td>\n",
       "      <td>0.000000</td>\n",
       "      <td>0</td>\n",
       "      <td>0</td>\n",
       "      <td>1.000000</td>\n",
       "      <td>0.980000</td>\n",
       "      <td>0.989899</td>\n",
       "      <td>0.490000</td>\n",
       "      <td>0.980000</td>\n",
       "      <td>0.011494</td>\n",
       "      <td>0.500000</td>\n",
       "      <td>0.022472</td>\n",
       "      <td>0.984127</td>\n",
       "      <td>0.418919</td>\n",
       "      <td>0.587678</td>\n",
       "      <td>0.459459</td>\n",
       "      <td>0.418919</td>\n",
       "      <td>0.000000</td>\n",
       "      <td>0</td>\n",
       "      <td>0</td>\n",
       "      <td>1.000000</td>\n",
       "      <td>0.713333</td>\n",
       "      <td>0.832685</td>\n",
       "      <td>0.356667</td>\n",
       "      <td>0.713333</td>\n",
       "      <td>0.061348</td>\n",
       "      <td>0.207576</td>\n",
       "      <td>0.074177</td>\n",
       "      <td>0.481747</td>\n",
       "      <td>0.180738</td>\n",
       "      <td>0.488889</td>\n",
       "      <td>0.238440</td>\n",
       "    </tr>\n",
       "  </tbody>\n",
       "</table><p>"
      ],
      "text/plain": [
       "<IPython.core.display.HTML object>"
      ]
     },
     "metadata": {},
     "output_type": "display_data"
    },
    {
     "name": "stdout",
     "output_type": "stream",
     "text": [
      "✅ Modelo robusto guardado en: ./model-xlm-roberta-robust\n"
     ]
    }
   ],
   "source": [
    "class OverfittingMonitor:\n",
    "    \"\"\"\n",
    "    Monitor de overfitting durante entrenamiento\n",
    "    \"\"\"\n",
    "    def __init__(self):\n",
    "        self.train_losses = []\n",
    "        self.val_losses = []\n",
    "        self.val_metrics = []\n",
    "    \n",
    "    def log_metrics(self, logs):\n",
    "        if 'train_loss' in logs:\n",
    "            self.train_losses.append(logs['train_loss'])\n",
    "        if 'eval_loss' in logs:\n",
    "            self.val_losses.append(logs['eval_loss'])\n",
    "        if 'eval_macro_f1' in logs:\n",
    "            self.val_metrics.append(logs['eval_macro_f1'])\n",
    "    \n",
    "    def check_overfitting(self):\n",
    "        if len(self.train_losses) >= 3 and len(self.val_losses) >= 3:\n",
    "            recent_train = np.mean(self.train_losses[-3:])\n",
    "            recent_val = np.mean(self.val_losses[-3:])\n",
    "            \n",
    "            overfitting_ratio = (recent_val - recent_train) / recent_train * 100\n",
    "            \n",
    "            print(f\"Overfitting check: {overfitting_ratio:.2f}%\")\n",
    "            \n",
    "            if overfitting_ratio > 5:\n",
    "                print(\"⚠️  Posible overfitting detectado!\")\n",
    "            else:\n",
    "                print(\"✅ Sin overfitting significativo\")\n",
    "            \n",
    "            return overfitting_ratio\n",
    "        return 0\n",
    "\n",
    "# Crear datasets\n",
    "train_dataset = Dataset.from_pandas(train_df)\n",
    "val_dataset = Dataset.from_pandas(val_df)\n",
    "test_dataset = Dataset.from_pandas(test_df)\n",
    "\n",
    "# Tokenizar\n",
    "train_dataset = train_dataset.map(tokenize_funct, batched=True)\n",
    "val_dataset = val_dataset.map(tokenize_funct, batched=True)\n",
    "test_dataset = test_dataset.map(tokenize_funct, batched=True)\n",
    "\n",
    "# Preparar etiquetas\n",
    "train_dataset = train_dataset.map(prepare_labels, batched=True)\n",
    "val_dataset = val_dataset.map(prepare_labels, batched=True)\n",
    "test_dataset = test_dataset.map(prepare_labels, batched=True)\n",
    "\n",
    "# Crear trainer\n",
    "trainer = Trainer(\n",
    "    model=model,\n",
    "    args=training_args,\n",
    "    train_dataset=train_dataset,\n",
    "    eval_dataset=val_dataset,\n",
    "    data_collator=data_collator,\n",
    "    compute_metrics=compute_metrics,\n",
    "    callbacks=callbacks,\n",
    ")\n",
    "\n",
    "# Entrenar con monitoreo\n",
    "print(\"🚀 Iniciando entrenamiento con monitoreo anti-overfitting...\")\n",
    "training_results = trainer.train()\n",
    "\n",
    "# Guardar modelo\n",
    "model_dir = \"./model-xlm-roberta-robust\"\n",
    "trainer.save_model(model_dir)\n",
    "tokenizer.save_pretrained(model_dir)\n",
    "\n",
    "print(f\"✅ Modelo robusto guardado en: {model_dir}\")"
   ]
  },
  {
   "cell_type": "markdown",
   "id": "6344ab53",
   "metadata": {},
   "source": [
    "## Vamos a evaluar el modelo"
   ]
  },
  {
   "cell_type": "code",
   "execution_count": 21,
   "id": "74cd02da",
   "metadata": {},
   "outputs": [
    {
     "name": "stdout",
     "output_type": "stream",
     "text": [
      "====================================================================================================\n",
      "EVALUACIÓN COMPREHENSIVA - ANÁLISIS DE OVERFITTING\n",
      "====================================================================================================\n",
      "\n",
      "📊 Evaluando en Train...\n"
     ]
    },
    {
     "data": {
      "text/html": [
       "\n",
       "    <div>\n",
       "      \n",
       "      <progress value='17' max='11' style='width:300px; height:20px; vertical-align: middle;'></progress>\n",
       "      [11/11 04:35]\n",
       "    </div>\n",
       "    "
      ],
      "text/plain": [
       "<IPython.core.display.HTML object>"
      ]
     },
     "metadata": {},
     "output_type": "display_data"
    },
    {
     "name": "stdout",
     "output_type": "stream",
     "text": [
      "Train Results:\n",
      "  Loss: 0.5482\n",
      "  Macro F1: 0.1410\n",
      "  Weighted F1: 0.3392\n",
      "  Macro Precision: 0.0852\n",
      "  Macro Recall: 0.7970\n",
      "\n",
      "📊 Evaluando en Validation...\n",
      "Validation Results:\n",
      "  Loss: 0.5448\n",
      "  Macro F1: 0.1416\n",
      "  Weighted F1: 0.3443\n",
      "  Macro Precision: 0.0854\n",
      "  Macro Recall: 0.7227\n",
      "\n",
      "📊 Evaluando en Test...\n",
      "Test Results:\n",
      "  Loss: 0.5491\n",
      "  Macro F1: 0.1408\n",
      "  Weighted F1: 0.3395\n",
      "  Macro Precision: 0.0851\n",
      "  Macro Recall: 0.7103\n",
      "\n",
      "====================================================================================================\n",
      "ANÁLISIS DE OVERFITTING\n",
      "====================================================================================================\n",
      "Loss Overfitting: -0.61%\n",
      "F1 Overfitting: -0.45%\n",
      "Generalization Gap (Val-Test F1): 0.0008\n",
      "✅ EXCELENTE: Overfitting < 5%\n"
     ]
    }
   ],
   "source": [
    "def comprehensive_evaluation(trainer, train_dataset, val_dataset, test_dataset):\n",
    "    \"\"\"\n",
    "    Evaluación comprehensiva para detectar overfitting\n",
    "    \"\"\"\n",
    "    print(\"=\"*100)\n",
    "    print(\"EVALUACIÓN COMPREHENSIVA - ANÁLISIS DE OVERFITTING\")\n",
    "    print(\"=\"*100)\n",
    "    \n",
    "    # Evaluar en los tres conjuntos\n",
    "    datasets = {\n",
    "        'Train': train_dataset,\n",
    "        'Validation': val_dataset, \n",
    "        'Test': test_dataset\n",
    "    }\n",
    "    \n",
    "    results = {}\n",
    "    \n",
    "    for name, dataset in datasets.items():\n",
    "        print(f\"\\n📊 Evaluando en {name}...\")\n",
    "        result = trainer.evaluate(eval_dataset=dataset)\n",
    "        results[name] = result\n",
    "        \n",
    "        print(f\"{name} Results:\")\n",
    "        print(f\"  Loss: {result['eval_loss']:.4f}\")\n",
    "        print(f\"  Macro F1: {result['eval_macro_f1']:.4f}\")\n",
    "        print(f\"  Weighted F1: {result['eval_weighted_f1']:.4f}\")\n",
    "        print(f\"  Macro Precision: {result['eval_macro_precision']:.4f}\")\n",
    "        print(f\"  Macro Recall: {result['eval_macro_recall']:.4f}\")\n",
    "    \n",
    "    # Análisis de overfitting\n",
    "    print(f\"\\n{'='*100}\")\n",
    "    print(\"ANÁLISIS DE OVERFITTING\")\n",
    "    print(\"=\"*100)\n",
    "    \n",
    "    train_loss = results['Train']['eval_loss']\n",
    "    val_loss = results['Validation']['eval_loss']\n",
    "    test_loss = results['Test']['eval_loss']\n",
    "    \n",
    "    train_f1 = results['Train']['eval_macro_f1']\n",
    "    val_f1 = results['Validation']['eval_macro_f1']\n",
    "    test_f1 = results['Test']['eval_macro_f1']\n",
    "    \n",
    "    # Cálculo de overfitting\n",
    "    loss_overfitting = ((val_loss - train_loss) / train_loss) * 100\n",
    "    f1_overfitting = ((train_f1 - val_f1) / train_f1) * 100\n",
    "    \n",
    "    print(f\"Loss Overfitting: {loss_overfitting:.2f}%\")\n",
    "    print(f\"F1 Overfitting: {f1_overfitting:.2f}%\")\n",
    "    \n",
    "    # Generalization gap\n",
    "    generalization_gap = val_f1 - test_f1\n",
    "    print(f\"Generalization Gap (Val-Test F1): {generalization_gap:.4f}\")\n",
    "    \n",
    "    # Evaluación final\n",
    "    if abs(loss_overfitting) < 5 and abs(f1_overfitting) < 5:\n",
    "        print(\"✅ EXCELENTE: Overfitting < 5%\")\n",
    "    elif abs(loss_overfitting) < 10 and abs(f1_overfitting) < 10:\n",
    "        print(\"✅ BUENO: Overfitting < 10%\")\n",
    "    else:\n",
    "        print(\"⚠️  CUIDADO: Overfitting significativo\")\n",
    "    \n",
    "    return results\n",
    "\n",
    "\n",
    "final_results = comprehensive_evaluation(trainer, train_dataset, val_dataset, test_dataset)"
   ]
  }
 ],
 "metadata": {
  "kernelspec": {
   "display_name": ".venv",
   "language": "python",
   "name": "python3"
  },
  "language_info": {
   "codemirror_mode": {
    "name": "ipython",
    "version": 3
   },
   "file_extension": ".py",
   "mimetype": "text/x-python",
   "name": "python",
   "nbconvert_exporter": "python",
   "pygments_lexer": "ipython3",
   "version": "3.12.1"
  }
 },
 "nbformat": 4,
 "nbformat_minor": 5
}
